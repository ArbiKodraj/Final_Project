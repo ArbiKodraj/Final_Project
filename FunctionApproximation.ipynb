{
 "cells": [
  {
   "cell_type": "markdown",
   "metadata": {},
   "source": [
    "---\n",
    "\n",
    "\n",
    "<p style=\"font-family:verdana\"> \n",
    "<p style=\"font-size:16px\">\n",
    "Project for the courses Effective Programming Practices and Scientific Computing | Winter Term 2020/2021, M.Sc. Economics, Bonn University | <a href=\"https://github.com/ArbiKodraj\">Arbi Kodraj</a> \n",
    "</p>\n",
    "</p>\n",
    "\n",
    "\n",
    "# Function Approximation via modern Machine Learning Methods\n",
    "\n",
    "---\n"
   ]
  },
  {
   "cell_type": "markdown",
   "metadata": {
    "toc": true
   },
   "source": [
    "<h1>Table of Contents<span class=\"tocSkip\"></span></h1>\n",
    "<div class=\"toc\"><ul class=\"toc-item\"><li><span><a href=\"#Introduction\" data-toc-modified-id=\"Introduction-1\"><span class=\"toc-item-num\">1&nbsp;&nbsp;</span>Introduction</a></span></li><li><span><a href=\"#Theory-of-Interpolation\" data-toc-modified-id=\"Theory-of-Interpolation-2\"><span class=\"toc-item-num\">2&nbsp;&nbsp;</span>Theory of Interpolation</a></span></li><li><span><a href=\"#Application-of-Interpolations\" data-toc-modified-id=\"Application-of-Interpolations-3\"><span class=\"toc-item-num\">3&nbsp;&nbsp;</span>Application of Interpolations</a></span><ul class=\"toc-item\"><li><span><a href=\"#Uniform--and-Chebychev-node-interpolations-via-numpy\" data-toc-modified-id=\"Uniform--and-Chebychev-node-interpolations-via-numpy-3.1\"><span class=\"toc-item-num\">3.1&nbsp;&nbsp;</span>Uniform- and Chebychev-node interpolations via numpy</a></span><ul class=\"toc-item\"><li><span><a href=\"#Benchmark-Exercise:-Uniform-node-interpolation-of-$k(x)=e^{-sin(x\\pi)}$\" data-toc-modified-id=\"Benchmark-Exercise:-Uniform-node-interpolation-of-$k(x)=e^{-sin(x\\pi)}$-3.1.1\"><span class=\"toc-item-num\">3.1.1&nbsp;&nbsp;</span>Benchmark Exercise: Uniform-node interpolation of $k(x)=e^{-sin(x\\pi)}$</a></span></li><li><span><a href=\"#Benchmark-Exercise:-Chebychev-node-interpolation-of-$k(x)=e^{-sin(x\\pi)}$\" data-toc-modified-id=\"Benchmark-Exercise:-Chebychev-node-interpolation-of-$k(x)=e^{-sin(x\\pi)}$-3.1.2\"><span class=\"toc-item-num\">3.1.2&nbsp;&nbsp;</span>Benchmark Exercise: Chebychev-node interpolation of $k(x)=e^{-sin(x\\pi)}$</a></span></li></ul></li><li><span><a href=\"#Naive-Approximation-via-scipy\" data-toc-modified-id=\"Naive-Approximation-via-scipy-3.2\"><span class=\"toc-item-num\">3.2&nbsp;&nbsp;</span>Naive Approximation via scipy</a></span><ul class=\"toc-item\"><li><span><a href=\"#Benchmark-Exercise:-Interpolation-of-$k(x)=e^{-sin(x\\pi)}$\" data-toc-modified-id=\"Benchmark-Exercise:-Interpolation-of-$k(x)=e^{-sin(x\\pi)}$-3.2.1\"><span class=\"toc-item-num\">3.2.1&nbsp;&nbsp;</span>Benchmark Exercise: Interpolation of $k(x)=e^{-sin(x\\pi)}$</a></span></li><li><span><a href=\"#Benchmark-Exercise:-Approximation-of-$g(x)-=-sin(\\frac{1}{2}x)---2-cos(2x)$\" data-toc-modified-id=\"Benchmark-Exercise:-Approximation-of-$g(x)-=-sin(\\frac{1}{2}x)---2-cos(2x)$-3.2.2\"><span class=\"toc-item-num\">3.2.2&nbsp;&nbsp;</span>Benchmark Exercise: Approximation of $g(x) = sin(\\frac{1}{2}x) - 2 cos(2x)$</a></span></li></ul></li><li><span><a href=\"#Chebyshev-nodes-Approximation\" data-toc-modified-id=\"Chebyshev-nodes-Approximation-3.3\"><span class=\"toc-item-num\">3.3&nbsp;&nbsp;</span>Chebyshev nodes Approximation</a></span><ul class=\"toc-item\"><li><span><a href=\"#Benchmark-Exercise:-Approximation-$k(x)=e^{-sin(x\\pi)}$\" data-toc-modified-id=\"Benchmark-Exercise:-Approximation-$k(x)=e^{-sin(x\\pi)}$-3.3.1\"><span class=\"toc-item-num\">3.3.1&nbsp;&nbsp;</span>Benchmark Exercise: Approximation $k(x)=e^{-sin(x\\pi)}$</a></span></li><li><span><a href=\"#Benchmark-Exercise:-Approximation-of-$f(x)-=-x-sin(x)$-using-this-class\" data-toc-modified-id=\"Benchmark-Exercise:-Approximation-of-$f(x)-=-x-sin(x)$-using-this-class-3.3.2\"><span class=\"toc-item-num\">3.3.2&nbsp;&nbsp;</span>Benchmark Exercise: Approximation of $f(x) = x sin(x)$ using this <a href=\"https://excamera.com/sphinx/article-chebyshev.html\" target=\"_blank\">class</a></a></span></li></ul></li></ul></li><li><span><a href=\"#Neural-Networks-as-Modern-Machine-Learning-Method\" data-toc-modified-id=\"Neural-Networks-as-Modern-Machine-Learning-Method-4\"><span class=\"toc-item-num\">4&nbsp;&nbsp;</span>Neural Networks as Modern Machine Learning Method</a></span><ul class=\"toc-item\"><li><span><a href=\"#MLP-Regressor\" data-toc-modified-id=\"MLP-Regressor-4.1\"><span class=\"toc-item-num\">4.1&nbsp;&nbsp;</span>MLP Regressor</a></span><ul class=\"toc-item\"><li><span><a href=\"#Benchmark-Exercise:-$h(x)-=-5-sin(\\pi-x)---e^{sin(5-x-\\pi)}$\" data-toc-modified-id=\"Benchmark-Exercise:-$h(x)-=-5-sin(\\pi-x)---e^{sin(5-x-\\pi)}$-4.1.1\"><span class=\"toc-item-num\">4.1.1&nbsp;&nbsp;</span>Benchmark Exercise: $h(x) = 5 sin(\\pi x) - e^{sin(5 x \\pi)}$</a></span></li><li><span><a href=\"#Example:-Real-Estate-Dataset\" data-toc-modified-id=\"Example:-Real-Estate-Dataset-4.1.2\"><span class=\"toc-item-num\">4.1.2&nbsp;&nbsp;</span>Example: Real Estate Dataset</a></span></li><li><span><a href=\"#Benchmark-Exercise:-$z(x,-y)-=-\\frac{sin(5-x)-~\\times-~cos(5-y)}{5}$\" data-toc-modified-id=\"Benchmark-Exercise:-$z(x,-y)-=-\\frac{sin(5-x)-~\\times-~cos(5-y)}{5}$-4.1.3\"><span class=\"toc-item-num\">4.1.3&nbsp;&nbsp;</span>Benchmark Exercise: $z(x, y) = \\frac{sin(5 x) ~\\times ~cos(5 y)}{5}$</a></span></li></ul></li><li><span><a href=\"#Sequential-Model\" data-toc-modified-id=\"Sequential-Model-4.2\"><span class=\"toc-item-num\">4.2&nbsp;&nbsp;</span>Sequential Model</a></span><ul class=\"toc-item\"><li><span><a href=\"#Benchmark-Exercise:-Approximation-of-$f_1(x)=e^{-x},$--$f_2(x)-=-|x|$-and-$f_3(x)=-x-sin(\\pi-x)$\" data-toc-modified-id=\"Benchmark-Exercise:-Approximation-of-$f_1(x)=e^{-x},$--$f_2(x)-=-|x|$-and-$f_3(x)=-x-sin(\\pi-x)$-4.2.1\"><span class=\"toc-item-num\">4.2.1&nbsp;&nbsp;</span>Benchmark Exercise: Approximation of $f_1(x)=e^{-x},$  $f_2(x) = |x|$ and $f_3(x)= x sin(\\pi x)$</a></span></li><li><span><a href=\"#Example:-Happiness-Score-Dataset\" data-toc-modified-id=\"Example:-Happiness-Score-Dataset-4.2.2\"><span class=\"toc-item-num\">4.2.2&nbsp;&nbsp;</span>Example: Happiness Score Dataset</a></span></li></ul></li></ul></li><li><span><a href=\"#Further-Machine-Learning-Methods\" data-toc-modified-id=\"Further-Machine-Learning-Methods-5\"><span class=\"toc-item-num\">5&nbsp;&nbsp;</span>Further Machine Learning Methods</a></span></li><li><span><a href=\"#Economical-Application\" data-toc-modified-id=\"Economical-Application-6\"><span class=\"toc-item-num\">6&nbsp;&nbsp;</span>Economical Application</a></span><ul class=\"toc-item\"><li><span><a href=\"#Estimation-of-Demand-and-Supply-Curve\" data-toc-modified-id=\"Estimation-of-Demand-and-Supply-Curve-6.1\"><span class=\"toc-item-num\">6.1&nbsp;&nbsp;</span>Estimation of Demand and Supply Curve</a></span></li><li><span><a href=\"#Stock-Price-Predictor\" data-toc-modified-id=\"Stock-Price-Predictor-6.2\"><span class=\"toc-item-num\">6.2&nbsp;&nbsp;</span>Stock Price Predictor</a></span></li></ul></li><li><span><a href=\"#Conclusion\" data-toc-modified-id=\"Conclusion-7\"><span class=\"toc-item-num\">7&nbsp;&nbsp;</span>Conclusion</a></span></li><li><span><a href=\"#References\" data-toc-modified-id=\"References-8\"><span class=\"toc-item-num\">8&nbsp;&nbsp;</span>References</a></span></li></ul></div>"
   ]
  },
  {
   "cell_type": "code",
   "execution_count": 1,
   "metadata": {},
   "outputs": [],
   "source": [
    "import numpy as np\n",
    "import warnings\n",
    "warnings.filterwarnings(\"ignore\")"
   ]
  },
  {
   "cell_type": "code",
   "execution_count": 2,
   "metadata": {},
   "outputs": [],
   "source": [
    "from auxiliary.nodes import PlotNodes                               # for Section 3\n",
    "from auxiliary.numpy_implementation import k, PMethod               # for Section 3.1\n",
    "from auxiliary.numpy_implementation import CMethod                  # for Section 3.1\n",
    "from auxiliary.scipy_implementation import *                        # for Section 3.2\n",
    "from auxiliary.cheby_nodes_monomial_bases import *                  # for Section 3.3\n",
    "from auxiliary.alternative_chebychev_implementation import *        # for Section 3.3"
   ]
  },
  {
   "cell_type": "code",
   "execution_count": 3,
   "metadata": {},
   "outputs": [],
   "source": [
    "from auxiliary.function_appro_MLP import *                          # for Section 4.1\n",
    "from auxiliary.function_appro_keras import *                        # for Section 4.2"
   ]
  },
  {
   "cell_type": "code",
   "execution_count": 4,
   "metadata": {},
   "outputs": [],
   "source": [
    "from auxiliary.appro_further_sklearn import Regressor               # for Section 5"
   ]
  },
  {
   "cell_type": "code",
   "execution_count": 5,
   "metadata": {},
   "outputs": [],
   "source": [
    "from auxiliary.economic_application import supply, demand           # for Section 6.1\n",
    "from auxiliary.economic_application import PolynomialDS\n",
    "from auxiliary.economic_application import AISupplyDemandApprox"
   ]
  },
  {
   "cell_type": "code",
   "execution_count": 6,
   "metadata": {},
   "outputs": [],
   "source": [
    "from auxiliary.stock_price_predictor import StockPricePredictor     # for Section 6.2\n",
    "from auxiliary.stock_price_predictor import NetworkPricePredictor\n",
    "from auxiliary.stock_price_predictor import get_actual_price_stock"
   ]
  },
  {
   "cell_type": "markdown",
   "metadata": {},
   "source": [
    "---\n",
    "## Introduction\n",
    "\n",
    "<p style=\"text-align: justify\">\n",
    "This project deals with the approximation of simple to more complex functions. Its core element is the verification of the suitability of modern machine learning (ML) methods as a complementary tool for the approximation of functions. Thus, the reader shall be convinced that ML methods represent an adequate complementary tool to conventional approximation methods by approximating benchmark functions using ML methods.\n",
    "<p>\n",
    "<p style=\"text-align: justify\">\n",
    "The work is divided into seven sections (excluding the introduction). Section 2 deals with the general idea of function approximations and shall serve as a short motivation. It also briefly discusses the theory that is relevant to Section 3. Section 3 deals with some conventional approximation methods, for example, uniform interpolation. I decide to deal with conventional methods as well in order to provide a precision comparison of the approximation methods. Even though the paper title only considers ML methods, the presentation of conventional methods is appropriate because this same comparison can be concluded. Besides, Section 3 is intended to convince the reader of the suitability of approximations. The fourth section is the first central part of the thesis. This section uses neural networks as a subset of ML to approximate self-established benchmark functions and data sets. In this context, I also motivate the use of neural networks and discuss their functionalities in detail. The fifth section makes use of different ML methods that will briefly be introduced to approximate benchmark functions. Section 6 forms the second central part of this project. There, the use of approximations in an economic context is presented. In this course, I try to convince ML methods to be suitable as a complementary tool for approximations in general and in the economic context. Finally, I will summarize and infer the results.  \n",
    "<p>\n",
    "<p style=\"text-align: justify\">\n",
    "At this point, I would like to mention that I use both object-oriented and functional programming. This is because it was only in the context of this work that I acquired project-oriented coding on my own and was able to improve it through the book \"Fluent Python\" written by Ramalho (2015). Also, I learned many new things in the Effective Programming Practices and Scientific Computing courses, which is why I think there is a significant difference in my coding quality. To show my learning effect, I still decided to include the worse implementations from a code point of view. This should only serve as an explanation for the different coding styles. \n",
    "<p>\n",
    "\n"
   ]
  },
  {
   "cell_type": "markdown",
   "metadata": {},
   "source": [
    "---\n",
    "## Theory of Interpolation\n",
    "\n",
    "<p style=\"text-align: justify\">\n",
    "In econometric and numerical problems, the need for an approximating function often arises. This need commonly occurs when it is too costly either in terms of time or complexity to compute the proper function or when this function is unknown and just rough ideas of its main properties are specified. Typically, an approximation only requires that the function is computable on a few points. Then, all other values can be guessed. \n",
    "<p>\n",
    "  \n",
    "<p style=\"text-align: justify\">\n",
    "For a particular dataset with finite but sufficiently many data points, one might, for example, be interested in the underlying function that explains this dataset. Suppose one knows that a security's return in the next period equals $r_{t+1}$, then it might be worthwhile to investigate whether the return has a functional form, i.e.,\n",
    "<p>  \n",
    "  \n",
    "\n",
    "$$r_{t+1} = f(r_{t}) + \\epsilon_{t+1},$$\n",
    "\n",
    "<p style=\"text-align: justify\">\n",
    "where $f(-)$ is the function that shall to be approximated and $\\epsilon_{t+1}$ characterizes the error. So, the main goal is to obtain an approximation for an unknown function $f$ for some given information.\n",
    "<p>\n",
    "    \n",
    "Some categories of approximations used in economics are:\n",
    "\n",
    "> One category can be thought of as either equilibrium approximations or local approximations, which essentially exploits information on the value of the function in one point and its derivatives at the same point. \n",
    "    \n",
    "> Another category can be thought of as functional approximations or model approximations.\n",
    "    \n",
    "<p style=\"text-align: justify\">  \n",
    "In general, as Miranda and Fackler (2002) pointed out, the main goal is to replace an analytically intractable function $f : \\mathbb{R}^n \\to \\mathbb{R}$ with a numerically tractable approximation $\\hat{f}.$ There are many strategies to estimate $\\hat{f}$. One general strategy for forming a tractable approximation to a function that can be evaluated at any point of its domain is called interpolation strategy and is, according to Gasca and Sauer (1999), a relatively new topic and probably only started in the second half of the last century. The approximation strategy is generally considered as follows:\n",
    "<p>\n",
    "    \n",
    "> for the approximation of $f$, a finite linear combination of $n$ known linearly independent basis functions $\\phi_1, \\phi_2, ..., \\phi_n$ is chose that represents $\\hat{f}$ whose basis coefficients $c_1, c_2,..., c_n$ are to be determined. \n",
    "\n",
    "\\begin{align*}\n",
    "f(x) \\approx \\hat{f}(x) \\equiv \\sum_{j=1}^n c_j \\phi_j(x)\n",
    "\\end{align*}\n",
    " \n",
    "<p style=\"text-align: justify\">\n",
    "The number $n$ of independent basis functions is called interpolation degree. In order to determine the coefficients $c_1, c_2,..., c_n$, one can interpolate the original function to the approximation at selected interpolation nodes $x_1, x_2,..., x_n$. Mostly monomial bases are used to design $\\hat{f}$, i.e.,\n",
    "<p>\n",
    "    \n",
    "\\begin{align*}\n",
    "\\phi_0(x) &= 1 \\\\\n",
    "\\phi_1(x) &= x \\\\\n",
    "\\phi_2(x) &= x^2 \\\\\n",
    ". \\\\\n",
    ". \\\\\n",
    "\\phi_n(x)&= x^n\n",
    "\\end{align*}\n",
    "    \n",
    "So, putting together, the approximation has the following form while using monomial bases:\n",
    "    \n",
    "\\begin{align*}\n",
    "f(x) \\approx \\hat{f}(x) \\equiv c_0 + c_1 x +  c_2 x^2 +  ... c_n x^n\n",
    "\\end{align*}\n",
    "    \n",
    "Interpolation can also be thought of as curve fitting where one can define an approximation error, i.e.,\n",
    "\n",
    "$$\\epsilon_i = f(x_i) - \\sum_{j=1}^n c_j \\phi_j(x)$$\n",
    "    \n",
    "and try to make the norm of the vector $\\epsilon$ as small as possible. \n",
    "    \n",
    "<p style=\"text-align: justify\">\n",
    "For the computational context, it is quite essential to choose an adequate interpolation scheme. To do so, one has to choose interpolation nodes and basis functions that satisfy specific criteria. According to Miranda and Fackler (2002), one criterion is that the approximation should produce an accurate approximation and get more accurate for higher degrees. Another one is that the basis function can be computed fast and accurately. Besides, the approximation should be apparent. The following section addresses some strategies to choose adequate nodes and bases.\n",
    "<p>\n",
    "    \n"
   ]
  },
  {
   "cell_type": "markdown",
   "metadata": {},
   "source": [
    "---\n",
    "## Application of Interpolations\n",
    "\n",
    "<p style=\"text-align: justify\">\n",
    "This section strongly relates to Section 6.2 of Miranda and Fackler (2002). As clarified from them, the Weierstrass Theorem asserts that any continuous real-valued function can be approximated to an arbitrary degree of accuracy over a bounded interval by a polynomial.\n",
    "<p>\n",
    "\n",
    "Specifically, if $f$ is continuous on $[a, b]$ and $\\epsilon > 0$, then there exists a polynomial $p$ such that \n",
    "\n",
    "\\begin{align*}\n",
    "\\max_{x\\in[a, b]} |f(x) - p(x)| < \\epsilon\n",
    "\\end{align*}\n",
    "                                          \n",
    "<p style=\"text-align: justify\">\n",
    "The theorem seems not to be very useful in terms of finding a good polynomial approximation. Contrary, they use monomial bases and evenly spaced nodes and the so-called Chebychev nodes to approximate predefined functions. \n",
    "<p>  \n",
    "    \n",
    "Evenly spaced interpolation nodes have the following form:\n",
    "\n",
    "$$x_i = a + \\frac{i-1}{n-1} (b-a) ~~~ \\forall i = 1,2,..,n$$ \n",
    "\n",
    "and are uniformly distributed with an equal distance to each other. Chebychev nodes, in turn, are not evenly spaced and focus more on the moments of the interval. They are expressed as follows:\n",
    "\n",
    "$$x_i = \\frac{a + b}{2} + \\frac{b-a}{2} cos((\\frac{n-i+0.5}{n})\\times\\pi) ~~~ \\forall i = 1,2,..,n.$$\n",
    "\n",
    "In the following, I am going to plot the distribution of the nodes for comparison."
   ]
  },
  {
   "cell_type": "code",
   "execution_count": 7,
   "metadata": {},
   "outputs": [],
   "source": [
    "nodes = PlotNodes(20, -1, 1)\n",
    "nodes.uniform_nodes()\n",
    "nodes.chebychev_nodes()"
   ]
  },
  {
   "cell_type": "code",
   "execution_count": 8,
   "metadata": {},
   "outputs": [
    {
     "data": {
      "image/png": "[encoded data removed]",
      "text/plain": [
       "<Figure size 720x432 with 2 Axes>"
      ]
     },
     "metadata": {
      "needs_background": "light"
     },
     "output_type": "display_data"
    }
   ],
   "source": [
    "nodes.plot_nodes()"
   ]
  },
  {
   "cell_type": "markdown",
   "metadata": {},
   "source": [
    "<p style=\"text-align: justify\">\n",
    "As shown in Figure 1, the evenly spaced interpolation nodes have the same distance to each of their neighbors. Chebychev nodes are more closely spaced near the endpoints of the interpolation interval and less near the center. Miranda and Fackler (2002) refer to Rivlin's Theorem that shows that Chebychev nodes are very nearly optimal polynomial approximants. To be more precise, it states that the Chebychev-approximation error with $n^{th}$- degree cannot exceed $(2\\pi log(n) + 2)$ times the lowest error attainable with any other polynomial approximation of the same order.\n",
    "<p>\n",
    "<p style=\"text-align: justify\">   \n",
    "In the following subsection, I will implement these two interpolation node approaches to compare how well they do by measuring the errors and plotting the results. For this, I heavily rely on the implementations provided in class using the NumPy library. Building upon this, in section 3.2, I will use the SciPy curve fit method to compare the approximation result with the naive polynomial interpolation of NumPy. For this, I define some functions as a kind of benchmark exercise. Going forward, in section 3.3, I will draw on objective programming methods to create an own algorithm to apply some Chebychev-node interpolations in order to compare the results with the NumPy provided one. For the algorithm in section 3.3 I refer to this <a href=\"https://excamera.com/sphinx/article-chebyshev.html\">implementation</a>.\n",
    "<p>"
   ]
  },
  {
   "cell_type": "markdown",
   "metadata": {},
   "source": [
    "---\n",
    "### Uniform- and Chebychev-node interpolations via numpy\n",
    "---\n",
    "\n",
    "#### Benchmark Exercise: Uniform-node interpolation of $k(x)=e^{-sin(x\\pi)}$\n",
    "\n",
    "In this benchmark exercise I use the in numpy implemented method that can be found <a href=\"https://numpy.org/doc/stable/reference/routines.polynomials.classes.html\">here</a>."
   ]
  },
  {
   "cell_type": "code",
   "execution_count": 9,
   "metadata": {},
   "outputs": [
    {
     "data": {
      "image/png": "[encoded data removed]",
      "text/plain": [
       "<Figure size 720x360 with 2 Axes>"
      ]
     },
     "metadata": {
      "needs_background": "light"
     },
     "output_type": "display_data"
    }
   ],
   "source": [
    "first = PMethod(\n",
    "    -1, 1, 10, 5, k\n",
    ")\n",
    "first.naive_poly()\n",
    "first.simple_plot_appro(10000, (10, 5))"
   ]
  },
  {
   "cell_type": "code",
   "execution_count": 10,
   "metadata": {},
   "outputs": [
    {
     "data": {
      "image/png": "[encoded data removed]",
      "text/plain": [
       "<Figure size 864x360 with 2 Axes>"
      ]
     },
     "metadata": {
      "needs_background": "light"
     },
     "output_type": "display_data"
    }
   ],
   "source": [
    "first.increasing_degree(1)              # increases degree by + input - use 0 if degree shall remain the same\n",
    "first.increasing_nodes()\n",
    "first.naive_poly_inc_nodes()\n",
    "first.plot_appro_inc_nodes((12, 5))     "
   ]
  },
  {
   "cell_type": "code",
   "execution_count": 11,
   "metadata": {},
   "outputs": [
    {
     "data": {
      "text/html": [
       "<style  type=\"text/css\" >\n",
       "</style><table id=\"T_858030d0_746a_11eb_a0ad_1c36bb31596e\" ><caption>Table 1: Accuracy of Naive Approximation for 6 Degrees</caption><thead>    <tr>        <th class=\"blank level0\" ></th>        <th class=\"col_heading level0 col0\" >10 Nodes</th>        <th class=\"col_heading level0 col1\" >30 Nodes</th>        <th class=\"col_heading level0 col2\" >90 Nodes</th>    </tr></thead><tbody>\n",
       "                <tr>\n",
       "                        <th id=\"T_858030d0_746a_11eb_a0ad_1c36bb31596elevel0_row0\" class=\"row_heading level0 row0\" >Mean Squared Error</th>\n",
       "                        <td id=\"T_858030d0_746a_11eb_a0ad_1c36bb31596erow0_col0\" class=\"data row0 col0\" >0.115324</td>\n",
       "                        <td id=\"T_858030d0_746a_11eb_a0ad_1c36bb31596erow0_col1\" class=\"data row0 col1\" >0.033901</td>\n",
       "                        <td id=\"T_858030d0_746a_11eb_a0ad_1c36bb31596erow0_col2\" class=\"data row0 col2\" >0.032433</td>\n",
       "            </tr>\n",
       "            <tr>\n",
       "                        <th id=\"T_858030d0_746a_11eb_a0ad_1c36bb31596elevel0_row1\" class=\"row_heading level0 row1\" >Mean Absolute Error</th>\n",
       "                        <td id=\"T_858030d0_746a_11eb_a0ad_1c36bb31596erow1_col0\" class=\"data row1 col0\" >0.016757</td>\n",
       "                        <td id=\"T_858030d0_746a_11eb_a0ad_1c36bb31596erow1_col1\" class=\"data row1 col1\" >0.001432</td>\n",
       "                        <td id=\"T_858030d0_746a_11eb_a0ad_1c36bb31596erow1_col2\" class=\"data row1 col2\" >0.001314</td>\n",
       "            </tr>\n",
       "            <tr>\n",
       "                        <th id=\"T_858030d0_746a_11eb_a0ad_1c36bb31596elevel0_row2\" class=\"row_heading level0 row2\" >Explained Variance</th>\n",
       "                        <td id=\"T_858030d0_746a_11eb_a0ad_1c36bb31596erow2_col0\" class=\"data row2 col0\" >0.974671</td>\n",
       "                        <td id=\"T_858030d0_746a_11eb_a0ad_1c36bb31596erow2_col1\" class=\"data row2 col1\" >0.997888</td>\n",
       "                        <td id=\"T_858030d0_746a_11eb_a0ad_1c36bb31596erow2_col2\" class=\"data row2 col2\" >0.998056</td>\n",
       "            </tr>\n",
       "            <tr>\n",
       "                        <th id=\"T_858030d0_746a_11eb_a0ad_1c36bb31596elevel0_row3\" class=\"row_heading level0 row3\" >$R^2$ Score</th>\n",
       "                        <td id=\"T_858030d0_746a_11eb_a0ad_1c36bb31596erow3_col0\" class=\"data row3 col0\" >0.974192</td>\n",
       "                        <td id=\"T_858030d0_746a_11eb_a0ad_1c36bb31596erow3_col1\" class=\"data row3 col1\" >0.997881</td>\n",
       "                        <td id=\"T_858030d0_746a_11eb_a0ad_1c36bb31596erow3_col2\" class=\"data row3 col2\" >0.998055</td>\n",
       "            </tr>\n",
       "    </tbody></table>"
      ],
      "text/plain": [
       "<pandas.io.formats.style.Styler at 0x7f8986722a90>"
      ]
     },
     "execution_count": 11,
     "metadata": {},
     "output_type": "execute_result"
    }
   ],
   "source": [
    "first.table_error()"
   ]
  },
  {
   "cell_type": "markdown",
   "metadata": {},
   "source": [
    "<p style=\"text-align: justify\">  \n",
    "To sum up this section's results, the NumPy algorithm is doing quite well in estimating the function by using evenly spaced dots. As one can observe, the approximation gets more accurate for more significant numbers of observed nodes, as stated in Table 1. A higher degree does also improve the approximation result. By increasing degrees, the errors get significantly smaller, and, consequently, the approximation gets significantly better. This effect is quite intuitive, as more information about the function provides a better understanding of it and leads to a closer approximation.\n",
    "<p>\n",
    "    \n",
    "\n",
    "<p style=\"text-align: justify\"> \n",
    "Next, I will use the Chebychev approximation for the same function as before to compare both results. The documentation about the Chebychev-node interpolation can be found  <a href=\"here. https://numpy.org/doc/stable/reference/routines.polynomials.chebyshev.html\">here</a>.\n",
    "<p>   \n",
    "    \n",
    "    \n",
    "#### Benchmark Exercise: Chebychev-node interpolation of $k(x)=e^{-sin(x\\pi)}$"
   ]
  },
  {
   "cell_type": "code",
   "execution_count": 12,
   "metadata": {},
   "outputs": [],
   "source": [
    "second = CMethod( -1, 1, 10, 5, k)"
   ]
  },
  {
   "cell_type": "code",
   "execution_count": 13,
   "metadata": {},
   "outputs": [
    {
     "ename": "AttributeError",
     "evalue": "'CMethod' object has no attribute 'degree'",
     "output_type": "error",
     "traceback": [
      "\u001b[0;31m---------------------------------------------------------------------------\u001b[0m",
      "\u001b[0;31mAttributeError\u001b[0m                            Traceback (most recent call last)",
      "\u001b[0;32m<ipython-input-13-4f6c3d4cc920>\u001b[0m in \u001b[0;36m<module>\u001b[0;34m\u001b[0m\n\u001b[0;32m----> 1\u001b[0;31m \u001b[0msecond\u001b[0m\u001b[0;34m.\u001b[0m\u001b[0mincrease_degree\u001b[0m\u001b[0;34m(\u001b[0m\u001b[0minc_factor\u001b[0m\u001b[0;34m=\u001b[0m\u001b[0;36m0\u001b[0m\u001b[0;34m)\u001b[0m  \u001b[0;31m# increase degrees by + input - use 0 if degree shall remain the same\u001b[0m\u001b[0;34m\u001b[0m\u001b[0;34m\u001b[0m\u001b[0m\n\u001b[0m\u001b[1;32m      2\u001b[0m \u001b[0msecond\u001b[0m\u001b[0;34m.\u001b[0m\u001b[0mextending_nodes\u001b[0m\u001b[0;34m(\u001b[0m\u001b[0;36m1\u001b[0m\u001b[0;34m)\u001b[0m             \u001b[0;31m# extend nodes by x input - if you don't want to extend just use 1 as input\u001b[0m\u001b[0;34m\u001b[0m\u001b[0;34m\u001b[0m\u001b[0m\n\u001b[1;32m      3\u001b[0m \u001b[0msecond\u001b[0m\u001b[0;34m.\u001b[0m\u001b[0mcheb_poly\u001b[0m\u001b[0;34m(\u001b[0m\u001b[0;34m)\u001b[0m\u001b[0;34m\u001b[0m\u001b[0;34m\u001b[0m\u001b[0m\n",
      "\u001b[0;32m~/Desktop/Final_Project_EPP/auxiliary/numpy_implementation.py\u001b[0m in \u001b[0;36mincrease_degree\u001b[0;34m(self, inc_factor)\u001b[0m\n\u001b[1;32m    268\u001b[0m             \u001b[0minc_factor\u001b[0m \u001b[0;34m(\u001b[0m\u001b[0mint\u001b[0m\u001b[0;34m)\u001b[0m\u001b[0;34m:\u001b[0m \u001b[0mFactor\u001b[0m \u001b[0mby\u001b[0m \u001b[0mwhich\u001b[0m \u001b[0mthe\u001b[0m \u001b[0mdegree\u001b[0m \u001b[0;32mis\u001b[0m \u001b[0mincreased\u001b[0m\u001b[0;34m.\u001b[0m\u001b[0;34m\u001b[0m\u001b[0;34m\u001b[0m\u001b[0m\n\u001b[1;32m    269\u001b[0m         \"\"\"\n\u001b[0;32m--> 270\u001b[0;31m         \u001b[0mself\u001b[0m\u001b[0;34m.\u001b[0m\u001b[0mdegree\u001b[0m \u001b[0;34m+=\u001b[0m \u001b[0minc_factor\u001b[0m\u001b[0;34m\u001b[0m\u001b[0;34m\u001b[0m\u001b[0m\n\u001b[0m\u001b[1;32m    271\u001b[0m \u001b[0;34m\u001b[0m\u001b[0m\n\u001b[1;32m    272\u001b[0m     \u001b[0;32mdef\u001b[0m \u001b[0mextending_nodes\u001b[0m\u001b[0;34m(\u001b[0m\u001b[0mself\u001b[0m\u001b[0;34m,\u001b[0m \u001b[0mext_factor\u001b[0m\u001b[0;34m)\u001b[0m\u001b[0;34m:\u001b[0m\u001b[0;34m\u001b[0m\u001b[0;34m\u001b[0m\u001b[0m\n",
      "\u001b[0;31mAttributeError\u001b[0m: 'CMethod' object has no attribute 'degree'"
     ]
    }
   ],
   "source": [
    "second.increase_degree(inc_factor=0)  # increase degrees by + input - use 0 if degree shall remain the same\n",
    "second.extending_nodes(1)             # extend nodes by x input - if you don't want to extend just use 1 as input \n",
    "second.cheb_poly()"
   ]
  },
  {
   "cell_type": "code",
   "execution_count": null,
   "metadata": {},
   "outputs": [],
   "source": [
    "second.plot_cheb_int((12, 5), 1000)"
   ]
  },
  {
   "cell_type": "code",
   "execution_count": null,
   "metadata": {},
   "outputs": [],
   "source": [
    "second.table_error()"
   ]
  },
  {
   "cell_type": "markdown",
   "metadata": {},
   "source": [
    "<p style=\"text-align: justify\">\n",
    "The Chebyshev approximation results with five degrees just marginal differ from the naive approximation results with five degrees. For six degrees, however, the accuracy of the Chebyshev approximation gets significantly higher for ten nodes. Thus, it appears to be the case that the error converges faster for Chebyshev nodes and that it does better for less information about the origin function. For seven degrees, the error difference for ten nodes gets even more extensive. However, for 30 and 90 nodes, there does not seem to be a difference in approximation accuracy. Still, Chebyshev nodes should be preferred over evenly spaced nodes, at most if just a little information about the function is given.\n",
    "<p>\n",
    "    \n",
    "<p style=\"text-align: justify\">\n",
    "In the next subsection, I will use the curve fit method from the SciPy library that can be found  <a href=\"here. https://docs.scipy.org/doc/scipy/reference/generated/scipy.optimize.curve_fit.html\">here</a>. This subsection's main purpose is to compare the results of different methods and come to a conclusion. \n",
    "<p>"
   ]
  },
  {
   "cell_type": "markdown",
   "metadata": {},
   "source": [
    "---\n",
    "### Naive Approximation via scipy\n",
    "---\n",
    "\n",
    "<p style=\"text-align: justify\">   \n",
    "<a href=\"https://www.scipy.org\">SciPy</a> is an open-source scientific computing library for the Python programming language and has become standard for leveraging Python's scientific algorithms (Virtanen et al., 2020). As stated by these authors: \n",
    "<div class=\"alert alert-block alert-info\">\n",
    "<blockquote> SciPy is a library of numerical routines for the Python programming language that provides fundamental building blocks for modeling and solving scientific problems. SciPy includes algorithms for optimization, integration, interpolation, eigenvalue problems, algebraic equations, differential equations, and many other classes of problems; it also provides specialized data structures, such as sparse matrices and k-dimensional trees.</blockquote>\n",
    "</div>\n",
    "<p style=\"text-align: justify\">   \n",
    "SciPy is built on NumPy (Virtanen et al., 2020), and since NumPy uses the C-API, one advantage of SciPy is that it is very fast in executing methods, either.\n",
    "\n",
    "<p style=\"text-align: justify\">\n",
    "The curve method in SciPy is closely related to the least square estimator from econometrics since it minimizes the sum of the squared residuals, i.e.,\n",
    "<p>\n",
    "    \n",
    "$$\\min_{c_j \\forall j = 1,2,...,n} (f(x_i) - \\sum_{j=1}^n c_j \\phi_j(x))^2.$$\n",
    "   \n",
    "<p style=\"text-align: justify\">\n",
    "Hence, the naive approximation method of SciPy returns a vector $c \\in \\mathbb{R}^n$ that solves the squared error problem. Additionally, it returns the estimated covariance of the optimal $c$. The covariance, however, is not relevant for this context.\n",
    "<p>"
   ]
  },
  {
   "cell_type": "markdown",
   "metadata": {},
   "source": [
    "####  Benchmark Exercise: Interpolation of $k(x)=e^{-sin(x\\pi)}$ "
   ]
  },
  {
   "cell_type": "code",
   "execution_count": null,
   "metadata": {},
   "outputs": [],
   "source": [
    "third = FCMethod(\n",
    "    -1, 1, 10, k, 5\n",
    ")"
   ]
  },
  {
   "cell_type": "code",
   "execution_count": null,
   "metadata": {},
   "outputs": [],
   "source": [
    "third.check_degree(True)      # input = True to increase degree by 1, can be increased up to 10\n",
    "third.choose_approx()\n",
    "third.fit_curve()"
   ]
  },
  {
   "cell_type": "code",
   "execution_count": null,
   "metadata": {},
   "outputs": [],
   "source": [
    "third.plot_naive_interp(\n",
    "    1000, (12, 5), 5.1, 5.2\n",
    ")"
   ]
  },
  {
   "cell_type": "code",
   "execution_count": null,
   "metadata": {},
   "outputs": [],
   "source": [
    "third.table_error(3)"
   ]
  },
  {
   "cell_type": "markdown",
   "metadata": {},
   "source": [
    "<p style=\"text-align: justify\">\n",
    "The curve fit method from SciPy is doing slightly worse in terms of small errors and high accuracy than the NumPy polynomial method. The difference, however, is not considerable. Similar to the NumPy polynomial, the curve fit method is doing better for higher degrees. Interestingly, for seven degrees, the curve fit naive approximation of SciPy displays a much better approximation for 10 nodes ($MSE = 0.038$) compared to the NumPy polynomial implementation ($MSE = 0.115$). For a greater number of nodes, in turn, the NumPy naive approximation seems to be slightly better in terms of minimizing the error. \n",
    "<p>\n",
    "<p style=\"text-align: justify\"> \n",
    "In the following, I will present a more fancy and complex function to determine whether the fit curve method leads to similar results. In addition to that, I am going to increase the domain ($b-a$).\n",
    "<p>\n",
    "    \n",
    "#### Benchmark Exercise: Approximation of $g(x) = sin(\\frac{1}{2}x) - 2 cos(2x)$ "
   ]
  },
  {
   "cell_type": "code",
   "execution_count": null,
   "metadata": {},
   "outputs": [],
   "source": [
    "fourth = FCMethod(-3, 3, 10, g, 7)"
   ]
  },
  {
   "cell_type": "code",
   "execution_count": null,
   "metadata": {},
   "outputs": [],
   "source": [
    "fourth.check_degree(True)\n",
    "fourth.choose_approx()\n",
    "fourth.fit_curve()"
   ]
  },
  {
   "cell_type": "code",
   "execution_count": null,
   "metadata": {},
   "outputs": [],
   "source": [
    "fourth.plot_naive_interp(1000, (12, 5), 6.1, 6.2)"
   ]
  },
  {
   "cell_type": "code",
   "execution_count": null,
   "metadata": {},
   "outputs": [],
   "source": [
    "fourth.table_error(4)"
   ]
  },
  {
   "cell_type": "markdown",
   "metadata": {},
   "source": [
    "<p style=\"text-align: justify\">\n",
    "As shown in Table 4, the approximation works well for 9 Degrees. Even for ten nodes, the error is relatively low, whereas the explained variance is close to one. For higher nodes, the approximation gets even better. As displayed in Figure 6.2, however, the error is relatively high, especially at the boundaries. This observation underlies the Section 2 and 3 discussed theory of the disadvantage of evenly spaced nodes. They exhibit the same distance to each of their neighbors, but they do not focus on the boundaries and therefore are sensitive to errors in the boundary area. As already mentioned, Chebychev nodes solve this problem since they focus more on boundaries. \n",
    "<p>"
   ]
  },
  {
   "cell_type": "markdown",
   "metadata": {},
   "source": [
    "---\n",
    "### Chebyshev nodes Approximation \n",
    "\n",
    "<p style=\"text-align: justify\">\n",
    "This section will provide an objective programming implementation of the Chebyshev-node interpolation with monomial bases to compare it with the NumPy Chebychev method. Unfortunately, I could not fully create an approximation with Chebyshev interpolations pictured below in Figure 7. I tried to stick to Miranda and Fackler's (2002) Chebyshev interpolation approach but failed to implement it fully. I used $n=10$ and a normalized interval $[-1, 1]$. The curve fit method of SciPy yields an optimal weight $c$ solution. However, this weight does not yield to the true value for $k(x) \\in [-1, 1]$. The implementation result can be checked by running the next second line.\n",
    "<p>\n",
    "    \n",
    "<p style=\"text-align: justify\">   \n",
    "For Figure 7, I use a normalized interval $[-1, 1]$ such that $z = \\frac{(x-a)}{b-a} - 1$ can be formed to $z = x$ (Miranda and Fackler, 2002). For the interpolation coefficients $T_j(z)$, where $j = 0,1,...,(n-1)$. Furthermore, I use the alternate trigonometric definition of $cos(arccos(z)j)$ and just replaced $z$ for $x$. In addition to that, I made use of Chebychev nodes for the normalized interval, i.e.,\n",
    "    \n",
    "$$x =\\frac{cos(n-i-0.5)}{n} \\pi.$$\n",
    "<p>"
   ]
  },
  {
   "cell_type": "code",
   "execution_count": null,
   "metadata": {},
   "outputs": [],
   "source": [
    "show_cheb_polyn(-1, 1, 100)"
   ]
  },
  {
   "cell_type": "markdown",
   "metadata": {},
   "source": [
    "In order to understand my approach for Chebychev interpolations, I want first to state Chebychev polynomials, i.e.,\n",
    "    \n",
    "$$T_j(x) = 2 z T_{j-1}(z) - T_{j-2}(z)~\\forall j=0,1,...,n-1,$$\n",
    "\n",
    "where $z = x$ for $(a, b) = (-1, 1).$ Finally, the approximation $\\hat{f}$ has the following form:\n",
    "    \n",
    "$$f(x) \\approx \\hat{f}(x) = c_0 T_0(x) + c_1 T_1(x) + ... + c_{n-1} T_{n-1}(x).$$\n",
    "    \n",
    "<p style=\"text-align: justify\">   \n",
    "I got to this approximation but failed to compute the optimal weights $c$ via the SciPy curve fit method. Thus, I will use monomial bases, although Miranda and Fackler (2002) mentioned that this approach yields to certain problems regarding the conditions, and the approximation often fails due to rounding errors. They also stated that attempts to more accurate approximations by raising the degree are often futile. I will restrict my attention to a relatively small interval and compare my results with the NumPy implemented Chebyshev approach. In addition to that, I am going to use an additional procedure that can be found <a href=\"https://excamera.com/sphinx/article-chebyshev.html\">here</a>. \n",
    "<p>\n",
    "\n",
    "#### Benchmark Exercise: Approximation $k(x)=e^{-sin(x\\pi)}$"
   ]
  },
  {
   "cell_type": "code",
   "execution_count": null,
   "metadata": {},
   "outputs": [],
   "source": [
    "fifth = ChebyNodeInterpolation(40, k, 5)\n",
    "fifth.choose_approx()"
   ]
  },
  {
   "cell_type": "code",
   "execution_count": null,
   "metadata": {},
   "outputs": [],
   "source": [
    "fifth.fit_curve()\n",
    "fifth.increase_degree(0)   "
   ]
  },
  {
   "cell_type": "code",
   "execution_count": null,
   "metadata": {},
   "outputs": [],
   "source": [
    "fifth.plot_cn_interp(\n",
    "    1000, (12, 5), 8.1, 8.2\n",
    ")"
   ]
  },
  {
   "cell_type": "code",
   "execution_count": null,
   "metadata": {},
   "outputs": [],
   "source": [
    "fifth.table_error(5)"
   ]
  },
  {
   "cell_type": "markdown",
   "metadata": {},
   "source": [
    "<p style=\"text-align: justify\">\n",
    "Hence, it clearly can be said that my programmed Chebychev approach is doing much worse compared to the NumPy library. The error indeed gets smaller for higher degrees. However, the approximation's error increases, especially in the rand points despite Chebychev nodes' use. This, in turn, underlies Miranda and Fackler's (2002) concerns regarding an inefficient use of monomial polynomials for an approximation with Chebychev nodes. Even higher nodes do not reduce the error. In fact, they even seem to increase the error, as one can observe in Table 5. \n",
    "<p>\n",
    "<p style=\"text-align: justify\">\n",
    "Next, I will examine the already mentioned alternative Chebychev method and check how this algorithm in comparison does. \n",
    "<p>\n",
    "\n",
    "#### Benchmark Exercise: Approximation of $f(x) = x sin(x)$ using this <a href=\"https://excamera.com/sphinx/article-chebyshev.html\">class</a>"
   ]
  },
  {
   "cell_type": "code",
   "execution_count": null,
   "metadata": {},
   "outputs": [],
   "source": [
    "sixth_low_degree = CCMethod(-3, 3, 5, f)\n",
    "approximation_error(\n",
    "    f, sixth_low_degree, 9.1, 5\n",
    ")"
   ]
  },
  {
   "cell_type": "code",
   "execution_count": null,
   "metadata": {},
   "outputs": [],
   "source": [
    "sixth_high_degree = CCMethod(-3, 3, 7, f)\n",
    "approximation_error(\n",
    "    f, sixth_high_degree, 9.2, 7\n",
    ")"
   ]
  },
  {
   "cell_type": "code",
   "execution_count": null,
   "metadata": {},
   "outputs": [],
   "source": [
    "data_frame_rslt(\n",
    "    sixth_low_degree, np.linspace(-1, 1, 9), f\n",
    ")"
   ]
  },
  {
   "cell_type": "code",
   "execution_count": null,
   "metadata": {
    "scrolled": true
   },
   "outputs": [],
   "source": [
    "orders = [14, 15, 16, 17, 18]\n",
    "error_for_diff_orders(\n",
    "    orders, f, range(-10, 11), 9.3\n",
    ")   "
   ]
  },
  {
   "cell_type": "markdown",
   "metadata": {},
   "source": [
    "<p style=\"text-align: justify\">\n",
    "This provided method is consistent with the previous observations. As it could already be observed, the estimation is doing entirely wrong for boundary values. Higher degrees do seem to decrease the error expressed by the absolute error. What is quite exciting and therefore noticeable is the fact that the error appears to be inflexible. Previously, the error term at least had a smooth course. However, curiously, this Chebychev implementation seems to break the smoothness but still provide a solid approximation. Finally, it clearly can be said that one should prefer Chebychev interpolation via the Chebychev node provided by NumPy. This subsection finishes applying the Section 2 well-discussed approximation theory and moves on to another exciting topic regarding approximations. The following sections build up this notebook's main topic and deal with alternative interpolation methods using modern ML methods.\n",
    "<p>"
   ]
  },
  {
   "cell_type": "markdown",
   "metadata": {},
   "source": [
    "---\n",
    "## Neural Networks as Modern Machine Learning Method\n",
    "\n",
    "<p style=\"text-align: justify\">\n",
    "The use of modern ML in Economics is already established (Athey, 2018) and, according to many opinions, is expected to contribute significantly to changes in quite a few applications and professional categories in the future (Brynjolfsson, Mitchell, & Rock, 2018). According to Brynjolfsson et al. (2018), ML studies the question \"How computer programs can be built that automatically improve their performance at some task through experience.\" ML is also referred to as the study of algorithms that improve through experience (Tegmark, 2017). In this context, experience is referring to the amount of stored information by a system. In general, ML is seen as a subset of artificial intelligence (AI) that uses training data to make predictions about future events (Murphy, 2012). \n",
    "<p>\n",
    " \n",
    "<p style=\"text-align: justify\">\n",
    "To understand how physical objects can even remember or store information, I refer to the popular paper \"Neural networks and physical systems with emergent collective computational abilities\" written by John Hopfield (1982). He shows how a network of interconnected neurons could function as an auto-associative memory. He expresses that neuronal networks provide an environment with many energy-minima that the system can settle into to squeeze in various memories. This stored information can be transformed into another memory state. Such a transformation is named computation and can be achieved by implementing functions. In this framework, one can think of a function as a deterministic transformation, i.e., each input information will be transformed into a piece of corresponding output information. One example of a complex function is a machine-translator like deepl.com, whose goal is to transform inputting bits representing text in one language into outputting bits representing that same text in another language. To do so, deepl.com uses convolutional neural networks (CNNs) <a href=\"https://techcrunch.com/2017/08/29/deepl-schools-other-online-translators-with-clever-machine-learning/?guccounter=1\">(reference)</a> that is a subfield of modern ML. Another example of a highly complex function based on modern ML methods is provided by AI researchers at Google who managed to create an AI called AlphaGo that dominates the game Go. According to <a href=\"https://blog.google/technology/ai/alphago-machine-learning-game-go/\">this</a> official Google blog post, AlphaGo is a system that uses advanced tree search with deep neural networks. A neural network is called deep if the network has more than one layer.\n",
    "The neural networks use a description of the Go board as an input and process it through 12 different network layers containing a million connections. One neural network selects the next move to play (policy network), while the other predicts the game-winner (value network).       \n",
    "<p> \n",
    "    \n",
    "<p style=\"text-align: justify\">    \n",
    "This section will also use neural networks as a modern ML method to approximate simple to more complex functions given some information. For this, I will make use of two various objects. First, the neural network called MLP Regressor will be used, which stem from the \n",
    "    <a href=\"https://scikit-learn.org/stable/\">sickit-learn</a> \n",
    "library and whose documentation can be accessed\n",
    "    <a href=\"https://scikit-learn.org/stable/modules/generated/sklearn.neural_network.MLPRegressor.html\">here</a>, \n",
    "and, second, the Sequential Model from the\n",
    "    <a href=\"https://keras.io/api/\">Keras</a> library will be used, whose documentation can be viewed \n",
    "    <a href=\"https://keras.io/guides/sequential_model/\">here</a>. \n",
    "Keras acts as an interface for the \n",
    "    <a href=\"https://www.tensorflow.org\">TensorFlow</a> \n",
    "library. \n",
    "<p>  \n",
    "\n",
    "<p style=\"text-align: justify\">    \n",
    "To motivate the use of neural networks in general, I refer to Herbich et al.'s (1999) article in which they describe the powerfulness of neural networks in statistical data analysis and their general dominance in ML. According to their work, the most prominent feature of neural networks is their ability to learn dependencies based on a finite number of observations in the sense that the knowledge acquired from the training samples can be generalized to as yet unseen observations. Since that is what I want to do, it makes sense to use them in this framework. \n",
    "<p> \n",
    "\n",
    "<p style=\"text-align: justify\">\n",
    "Instead of using highly complex functions, I will first restrict my attention to the approximation of functions as binary relations between two sets that map an input $x\\in\\mathbb{R}^N$ from set $X$ to a corresponding output $y\\in\\mathbb{R}$ from set $Y$. \n",
    "I randomly split $X$ and $Y$ into two sets named training and testing data to train the neural system. I ensure that each input element still corresponds to its output after splitting the sets. \n",
    "<p>  \n",
    "  \n",
    "Suppose $f$ transforms input $x_i$ into output $y_i$ for all $i$, i.e.,\n",
    "    \n",
    "$$f : (x_1, x_2, ..., x_N) \\rightarrow (y_1, y_2, ..., y_N)$$\n",
    "  \n",
    "Then, I define the universe of input and output pair information as follows:\n",
    "    \n",
    "$$\\prod_{i=1}^{N}~\\{(x_i, y_i)\\} = \\{(x_1, y_1),(x_2,y_2),...,(x_N,y_N)\\},$$\n",
    "\n",
    "<p style=\"text-align: justify\">  \n",
    "where $(x_i,y_i)$ is defined as input-output pair $i$. Using implemented assigning methods, I randomly assign a specific percentage $\\alpha$ of the input-output pair universe $\\prod_{i=1}^{N}$ to the training and the remaining piece $1-\\alpha$ to the testing data. The training data is then used to teach the network, while the testing data is used to test its prediction. Before starting the actual implementation, I will first illustrate how neural systems even compute. Afterward, I will briefly explain how they even learn. \n",
    "<p>  \n",
    "        \n",
    "<p style=\"text-align: justify\">\n",
    "A neural network consists of layers representing groups of interconnected neurons that can influence each other's behavior (Tegmark, 2017). An image of how neural networks are structured is displayed in the figure below. Information move in only one direction (Feed Forward), coming from the input layer. Each neuron updates its state at regular time steps by averaging the inputs from all connected neurons, weighting them by synaptic strength (represented by the connection line), optionally adding a constant as bias, and then applying a specific activation function to the result to find its next state (Tegmark, 2017). The activation function's application is essential to determine which neurons from the next state will be activated. \n",
    "<p>\n",
    "    \n",
    "![\"Neural Network\"](material/neural_network_keras.png)\n",
    "\n",
    "<p style=\"text-align: justify\">  \n",
    "Hence, a neural network can basically be seen as a function (Ketkar, 2017).\n",
    "Consider input $x_i$ for $i = \\{1,..,N\\}$. An artificial neuron weights each input and adds a bias to the sum of weighted inputs. Consequently, it has the following form:\n",
    "<p>\n",
    "    \n",
    "$$z = w_1 x_1 + ... + w_N x_N + Bias$$\n",
    " \n",
    "<p style=\"text-align: justify\">\n",
    "To each neuron $z$, an activation function is applied. There are several activation functions, for instance, the Sigmoid function, which is primarily of interest when classifying inputs. It is represented by $\\sigma(z)$ and has the following form:\n",
    "<p>    \n",
    "$$\n",
    "\\begin{align*}\n",
    "    \\sigma(z) &= \\frac{1}{1+e^{-z}}\\\\\n",
    "\\end{align*}\n",
    "$$  \n",
    "    \n",
    "According to the sigmoid function, a neuron gets activated if $z>0$. In general, a neural network $N$ can be generalized by: \n",
    "    \n",
    "$$N_{w, b, f} : x \\rightarrow y,$$\n",
    "   \n",
    "<p style=\"text-align: justify\">\n",
    "where $w$ represents each neuron's weights or behavior, $b$ stands for the bias as a constant, and $f$ represents the activation function. The system transforms an input-vector $x$ to an output $y$ (Ketkar, 2017). That is how one can imagine the functionality of neural networks.\n",
    "<p>\n",
    "   \n",
    "<p style=\"text-align: justify\">\n",
    "Cybenko et al. (1989) even show that continuous feedforward neural networks can arbitrarily precisely approximate any function with any continuous sigmoidal nonlinearity by simply adjusting synapse strength accordingly. Although, according to Henry W. Lin et al. (2017), \"the success of deep learning could depend not only on mathematics but also on physics.\" Henry W. Lin et al. (2017) extend previous work and prove that deep neural networks are more efficient than shallow ones in terms of the number of required neurons for predicting the outcome of functions.  \n",
    "<p>\n",
    "    \n",
    "<p style=\"text-align: justify\">\n",
    "Neural networks generally perform supervised learning tasks, building knowledge from information where the correct output is given in advance. After modifying the input and generating a prediction, they compare it with the initial output. A cost function based on the prediction error is then used to adjust the network's weights and biases accordingly. This procedure is repeated several times so that the weights and biases get adjusted by the cost function to make the prediction more accurate. This process is called \"backpropagation\" or \"stochastic gradient descent\" (Tegmark, 2017).\n",
    "<p>\n",
    "\n",
    "<p style=\"text-align: justify\">  \n",
    "This section is divided into two subsections. First, I will apply the MLP Regressor object from scikit-learn to benchmark functions and predict a dataset. The second subsection uses the Sequential Model from Keras for the same purpose.\n",
    "<p>\n"
   ]
  },
  {
   "cell_type": "markdown",
   "metadata": {},
   "source": [
    "---\n",
    "###  MLP Regressor  \n",
    "\n",
    "<p style=\"text-align: justify\"> \n",
    "Scikit-learn is a Python module that integrates a wide range of modern ML algorithms for supervised and unsupervised problems. It focuses on making machine learning accessible to non-specialists in a general high-level language (Pedregosa et al., 2011). It relies on the scientific Python ecosystem. Thus, it can easily be integrated into applications outside the traditional data analysis range (Pedregosa et al., 2011).\n",
    "<p>\n",
    "<p style=\"text-align: justify\"> \n",
    "Next, I will use the MLP regression module integrated into scikit-learn to approximate benchmark functions for some given nodes.\n",
    "<p>"
   ]
  },
  {
   "cell_type": "markdown",
   "metadata": {},
   "source": [
    "#### Benchmark Exercise: $h(x) = 5 sin(\\pi x) - e^{sin(5 x \\pi)}$\n",
    "\n",
    "The first function that I want to approximate using neural networks represented by the MLPRegressor object is:\n",
    "\n",
    "$$h(x) = 5 sin(\\pi x) - e^{sin(5 x \\pi)}$$\n",
    "\n",
    "<p style=\"text-align: justify\">\n",
    "I will demonstrate the ML approximation for a close domain $[-1,1]$. The function will be evaluated at $200$ points from that domain such that the input-output information universe has a size of $200 \\times 2$, i.e., there exists $200$ input-output pairs and each pair has a size of two, namely $(x,h(x))$, where $x$ is the input and $h(x)$ the underlying output. I choose an assigning rate of $\\alpha=0.6$. That means that I randomly assign $60\\%$ of the input-output pair universe to training data and predict the remaining $40\\%$. Figure 10.1 visualizes the assignment.\n",
    "<p>\n",
    "  "
   ]
  },
  {
   "cell_type": "code",
   "execution_count": null,
   "metadata": {},
   "outputs": [],
   "source": [
    "x_train, x_test, y_train, y_test = split_method(\n",
    "    np.arange(-1, 1, .01), h, 0.4\n",
    ")\n",
    "plot_train_test(x_train, \n",
    "                x_test, \n",
    "                y_train,\n",
    "                y_test,\n",
    "                None,\n",
    "                \"$x$\",\n",
    "                \"$f(x) = sin(2 \\pi x) + sin(5 \\pi x)$\",\n",
    "                10.1,\n",
    "                '')"
   ]
  },
  {
   "cell_type": "markdown",
   "metadata": {},
   "source": [
    "For the neural network construction, I decide to use the default ReLU activation function:  \n",
    "\n",
    "$$R(z) = max\\{0, z\\}$$\n",
    "\n",
    "<p style=\"text-align: justify\">\n",
    "that activates a neuron $z$ if its value is greater than zero, $z > 0$. For weight optimization, I use an optimizer from the family of quasi-Newton methods (lbfgs). I decide against the well-performed stochastic gradient-based (adam) default optimizer since lbfgs can converge faster and perform better for smaller information, according to the scikit-learn documentation. For the hidden layers, I choose four hidden layers. The first hidden layer contains $30$. The second contains $40$, the third contains $50$, and the last contains $30$ neurons. Hence, my neural network has the following form:\n",
    "<p>\n",
    "    \n",
    "![\"Neural Network MLP\"](material/mlp_network.png)\n",
    "\n",
    "<p style=\"text-align: justify\">\n",
    "Furthermore, I iterate $2000$ times or, to put it in other words, I backpropagate the network $2000$ times. The final prediction is shown in Figure $10.2$ and appears to be arbitrarily accurate. The orange dots are supposed to be predicted, while the red dots stand for the actual prediction. \n",
    "<p>"
   ]
  },
  {
   "cell_type": "code",
   "execution_count": null,
   "metadata": {},
   "outputs": [],
   "source": [
    "pred = mlp_approximation(\n",
    "    x_train, x_test, y_train, y_test\n",
    ")"
   ]
  },
  {
   "cell_type": "code",
   "execution_count": null,
   "metadata": {},
   "outputs": [],
   "source": [
    "plot_train_test(\n",
    "    x_train, \n",
    "    x_test, \n",
    "    y_train, \n",
    "    y_test, \n",
    "    pred,\n",
    "    \"$x$\", \n",
    "    \"$f(x) = sin(2 \\pi x) + sin(5 \\pi x)$\", \n",
    "    10.2,    \n",
    "    ''\n",
    ")"
   ]
  },
  {
   "cell_type": "markdown",
   "metadata": {},
   "source": [
    "<p style=\"text-align: justify\">\n",
    "Next, I will look at how well the neural network performs in terms of its accuracy for different numbers of iterations. I consider the absolute mean error and mean squared error to express the accuracy of the prediction. Furthermore, I use the explained variance score and $R^2$ score to check how well the prediction can explain the variance at all. Generally, the network appears to predict the testing data arbitrarily accurately for all iterations and explain nearly all the variance. The prediction does not necessarily do better for more iterations. \n",
    "<p>"
   ]
  },
  {
   "cell_type": "code",
   "execution_count": null,
   "metadata": {},
   "outputs": [],
   "source": [
    "N_iter = [\n",
    "    2000, 4000, 10000\n",
    "]\n",
    "prediction_report(\n",
    "    N_iter, x_train, x_test, y_train, y_test, 7\n",
    ")"
   ]
  },
  {
   "cell_type": "markdown",
   "metadata": {},
   "source": [
    "#### Example: Real Estate Dataset \n",
    "\n",
    "<p style=\"text-align: justify\">\n",
    "In this section, I use an official Kaggle dataset to approximate its structure. I set $\\alpha = 0.8$ and standardize the dataset due to the resulting increasing precision of the result. To what extent the data set is suitable for a sufficiently precise approximation cannot be said concretely, but based on the data distribution, it makes sense due to the smooth optics. The dataset's origin can be found \n",
    "<a href=\"https://www.kaggle.com/arslanali4343/real-estate-dataset\">here</a> and is saved as a CSV file in the 'data' folder.  \n",
    "<p>\n",
    "    \n",
    "<p style=\"text-align: justify\">\n",
    "The dataset title is \"Real Estate DataSet\" and concerns housing values in the suburbs of Boston. In principle, the data set is excellent for making predictions, which can also be taken from the underlying website. However, I am only interested in the relationship of two characteristics and suggest that functionality between these characteristics exists. I decided to use the characteristics \"lower status of the population\" defined as LSTAT and \"median value of owner-occupied homes in \\$1000's\" defined as MEDV. So I assume that a function $f$ exists that can transform the input information LSTAT can be transformed into the output information MEDV. I am aware of the assumption's riskiness, but I would like to make it estimate the precision of neural networks as an approximation tool for unconventional functions. \n",
    "At this point, it should be noted that economic interpretations and consequences are not part of this work and, therefore, will not be discussed in detail unless they are apparent from my point of view. \n",
    "<p>\n",
    "\n",
    "Formally, I suppose that the exists a function $f$ that transforms $LSTAT \\in \\mathbb{R^N}$ into $MEDV \\in \\mathbb{R^N}$, i.e.,\n",
    "\n",
    "$$MEDV \\approx f(LSTAT)$$\n",
    "\n",
    "<p style=\"text-align: justify\">\n",
    "I let the same neural system find patterns by training it with $80\\%$ of the whole dataset and test its prediction by comparing it with the remaining $20\\%$ of the whole dataset. The result is pictured in Figure 11.2. Blue dots represent training data, while orange dots were supposed to be predicted. The actual predictions are represented through red dots. As one can see, the prediction is inaccurate. However, considering that the assumption is erroneous or incomplete, the system performs very well. It is also quite thrilling that no assumptions were made of the functions form or the variables themselves. However, I expected such a relationship between these characteristics since it is intuitive that higher population status is positively associated with greater mean values of owner-occupied homes. \n",
    "<p>\n",
    "<p style=\"text-align: justify\">\n",
    "Besides, the approximation appears to be relatively smooth and flexible, especially in the boundaries. The quadratic regression estimation approach strict would probably perform similarly but needs certain assumptions. An increase in the number of iterations does not improve the prediction's accuracy proposed in Table 8.  \n",
    "<p>"
   ]
  },
  {
   "cell_type": "code",
   "execution_count": null,
   "metadata": {},
   "outputs": [],
   "source": [
    "x_train, x_test, y_train, y_test = get_data(\n",
    "    \"data/RealEstateDataSet.csv\", \"LSTAT\", \"MEDV\", 0.2\n",
    ")\n",
    "x_train_scaled, x_test_scaled, y_train_scaled, y_test_scaled = change_data(\n",
    "    'standardize', x_train, x_test, y_train, y_test\n",
    ")"
   ]
  },
  {
   "cell_type": "code",
   "execution_count": null,
   "metadata": {},
   "outputs": [],
   "source": [
    "prediction = mlp_approximation(\n",
    "    x_train_scaled, x_test_scaled, y_train_scaled, y_test_scaled\n",
    ")"
   ]
  },
  {
   "cell_type": "code",
   "execution_count": null,
   "metadata": {},
   "outputs": [],
   "source": [
    "plot_train_test(\n",
    "    x_train_scaled, \n",
    "    x_test_scaled, \n",
    "    y_train_scaled, \n",
    "    y_test_scaled, \n",
    "    prediction, \n",
    "    'Lower Status of Population', \n",
    "    \"Median value of owner-occupied homes in $1000's\",\n",
    "    11.1,\n",
    "    method='Standardized'\n",
    ")"
   ]
  },
  {
   "cell_type": "code",
   "execution_count": null,
   "metadata": {},
   "outputs": [],
   "source": [
    "prediction_report(\n",
    "    N_iter, \n",
    "    x_train_scaled,\n",
    "    x_test_scaled, \n",
    "    y_train_scaled, \n",
    "    y_test_scaled,\n",
    "    8,\n",
    "    'Standardized'\n",
    ")    "
   ]
  },
  {
   "cell_type": "markdown",
   "metadata": {},
   "source": [
    "#### Benchmark Exercise: $z(x, y) = \\frac{sin(5 x) ~\\times ~cos(5 y)}{5}$\n",
    "\n",
    "<p style=\"text-align: justify\">\n",
    "In this section, I investigate how accurate neural networks can approximate multidimensional functions. For this, I use a relatively fancy function $z(x,y)$ which maps from $[-1,1]^2$ to $\\mathbb{R}$. The approximation is to be performed for two separate training and testing sizes. For this purpose, I set $\\alpha$ to $0.8$ and $0.67$. The function has the following form: \n",
    "<p>\n",
    "    \n",
    "$$z(x, y) = \\frac{sin(5 x) ~\\times ~cos(5 y)}{5}$$\n",
    "\n",
    "<p style=\"text-align: justify\">\n",
    "and can be imaged by executing the next cell. Also, I allow the approximation to have some variability with respect to the known information so that I can compare how the amount of information (titled as nodes in the context of the paper) affects the precision of the result. Furthermore, it would be interesting to determine if the precision converges with an increasing number of nodes. For both samples ($\\alpha = 0.8$ and $\\alpha = 0.67$) I decide to structure neural system as follows:  \n",
    "<p>\n",
    "\n",
    "![title](material/3dNN.png)\n",
    "\n",
    "    \n",
    "<p style=\"text-align: justify\">    \n",
    "For both training sizes, I use the same number of iterations and network structure for the sake of comparison. The result might be improvable by increasing the number of iterations or changing the structure at all. However, I decide to use this approach for the benchmark function $z(x,y)$. Regarding the structure, I stick to Goodfellow's (2016) recommendation using deep networks instead of narrow ones since, empirically, greater depth does seem to result in better generalization for a wide variety of tasks. There is plenty of research regarding each layer's number, but there seems to be no general rule. Hence, I follow the first suggestion of this blog that can be found <a href=\"https://machinelearningmastery.com/how-to-configure-the-number-of-layers-and-nodes-in-a-neural-network/\">here</a> and carefully experiment with different layer-neuron combinations. The system shown above predicts the testing data arbitrarily accurate for all nodes and both training sizes. The approximation results are given in Table 9.1 for $\\alpha = 0.8$ and in Table 9.2 for $\\alpha = 0.67$. I expected a decrease in errors as the number of nodes increases. However, the difference appears to be marginal. This might be due to the structure of the network itself. This can possibly be attributed to the structure of the network, as the convergence behavior of the estimation error in my system may tend to approximate its Infinium already for relatively little information sufficiently. \n",
    "<p>"
   ]
  },
  {
   "cell_type": "code",
   "execution_count": null,
   "metadata": {},
   "outputs": [],
   "source": [
    "# plots benchmark function z(x,y)\n",
    "#smooth_fuction(\n",
    "#    np.arange(-1, 1, 0.01), np.arange(-1, 1, 0.01), 12.1\n",
    "#) "
   ]
  },
  {
   "cell_type": "code",
   "execution_count": null,
   "metadata": {},
   "outputs": [],
   "source": [
    "three_d_func1, three_d_func2 = MLP3D(z), MLP3D(z)"
   ]
  },
  {
   "cell_type": "code",
   "execution_count": null,
   "metadata": {},
   "outputs": [],
   "source": [
    "three_d_func1.train_test_method(0.2)\n",
    "three_d_func2.train_test_method(0.33)"
   ]
  },
  {
   "cell_type": "code",
   "execution_count": null,
   "metadata": {},
   "outputs": [],
   "source": [
    "three_d_func1.mpl_regr(\n",
    "    (60, 60, 20), max_iter=1000\n",
    ")\n",
    "three_d_func2.mpl_regr(\n",
    "    (60, 60, 20), max_iter=1000\n",
    ")"
   ]
  },
  {
   "cell_type": "code",
   "execution_count": null,
   "metadata": {},
   "outputs": [],
   "source": [
    "three_d_func1.error(\n",
    "    'Table 9.1: Approximation Accuracy for 20% Test Size'\n",
    ")"
   ]
  },
  {
   "cell_type": "code",
   "execution_count": null,
   "metadata": {},
   "outputs": [],
   "source": [
    "three_d_func2.error(\n",
    "    'Table 9.2: Approximation Accuracy for 33% Test Size'\n",
    ")"
   ]
  },
  {
   "cell_type": "markdown",
   "metadata": {},
   "source": [
    "<p style=\"text-align: justify\">\n",
    "Figure 12.2 visualizes the approximation of $z(x,y)$ for $\\alpha = 0.67$ with $1600$ nodes in total. Hence, the network learns from $1072$ nodes and approximates the remaining $528$ nodes. The blue dots entitle the training data, while the orange dots appoint to the testing data that are supposed to be predicted. The red crosses represent the actual prediction. The Figure illustrates the previous accuracy and how well the network is performing.\n",
    "<p>"
   ]
  },
  {
   "cell_type": "code",
   "execution_count": null,
   "metadata": {},
   "outputs": [],
   "source": [
    "three_d_func2.pltres(12.2)"
   ]
  },
  {
   "cell_type": "markdown",
   "metadata": {},
   "source": [
    "---\n",
    "### Sequential Model\n",
    "\n",
    "<p style=\"text-align: justify\">\n",
    "In this section, I will first introduce Keras and motivate its usefulness. Keras is a library that provides potent and abstract building blocks to build deep learning networks (Ketkar, 2017). It is built on top of TensorFlow, CNTK, and Theano (Moocarme et al., 2020). One advantage of using Keras is its user-friendly interface since advanced functions such as optimizers and layers are already built into the library and do not have to be written from scratch (Moocarme et al., 2020). Keras is used to create and train artificial neural networks and does not offer any other ML tools. Besides, it is extensible since it allows to add methods at any point. The simplest model structure in Keras is the Sequential model (Moocarme et al., 2020) and will be used in the further course. \n",
    "<p>   \n",
    "    \n",
    "#### Benchmark Exercise: Approximation of $f_1(x)=e^{-x},$  $f_2(x) = |x|$ and $f_3(x)= x sin(\\pi x)$\n",
    "    \n",
    "In this subsection, I will approximate three different functions,\n",
    "    \n",
    "$$\n",
    "\\begin{align*}\n",
    "    f_1(x)&=e^{-x}\\\\\n",
    "    f_2(x) &= |x|\\\\\n",
    "    f_3(x)&= x sin(\\pi x)\n",
    "\\end{align*}\n",
    "$$\n",
    "<p style=\"text-align: justify\"> \n",
    "using the Sequential model. I add Dense layers to the model as a fully connected layer in which all the nodes of the layer are directly connected to all the inputs and all the outputs (Moocarme et al., 2020). As optimizer, I decide to use adam. Moreover, I use relu as an activation function for all neurons from the hidden layers. The output layer is activated by relu for $f_1$ and by sigmoid for $f_2$ and $f_3$. The neural system has the following form:\n",
    "<p>  \n",
    "    \n",
    "![text](material/seq_network.png)\n",
    "    \n",
    "<p style=\"text-align: justify\">   \n",
    "for $f_1$ and $f_2$. For $f_3$ I add an additional hidden layer containing $10$ neurons. The training size equals $60\\%$ for all functions. In total, I use $250$ evenly spaced nodes derived from the interval $[-1,1]$ and iterate $500$ times. Figures 13.1 to 13.3 display the results. The blue dots correspond to the training data, the orange triangles to the testing data, while the red stars represent the actual model's output.\n",
    "<p> "
   ]
  },
  {
   "cell_type": "code",
   "execution_count": null,
   "metadata": {},
   "outputs": [],
   "source": [
    "f1 = SeqMethod(first_function, 250, 500)\n",
    "f2 = SeqMethod(second_function, 250, 500)\n",
    "f3 = SeqMethod(third_function, 250, 500)"
   ]
  },
  {
   "cell_type": "code",
   "execution_count": null,
   "metadata": {},
   "outputs": [],
   "source": [
    "f1.seq_init('relu') \n",
    "f2.seq_init('sigmoid')\n",
    "f3.seq_init('sigmoid', n3_init=True)"
   ]
  },
  {
   "cell_type": "code",
   "execution_count": null,
   "metadata": {},
   "outputs": [],
   "source": [
    "f1.predict_test() \n",
    "f2.predict_test()\n",
    "f3.predict_test()"
   ]
  },
  {
   "cell_type": "code",
   "execution_count": null,
   "metadata": {},
   "outputs": [],
   "source": [
    "x_train1, x_test1, y_train1, y_test1, pred1 = f1.return_data()\n",
    "x_train2, x_test2, y_train2, y_test2, pred2 = f2.return_data()\n",
    "x_train3, x_test3, y_train3, y_test3, pred3 = f3.return_data()"
   ]
  },
  {
   "cell_type": "code",
   "execution_count": null,
   "metadata": {},
   "outputs": [],
   "source": [
    "plt_side_by_side(\n",
    "    13.1, \n",
    "    13.2, \n",
    "    13.3, \n",
    "    x_train1, \n",
    "    y_train1, \n",
    "    x_test1, \n",
    "    y_test1, \n",
    "    pred1,\n",
    "    x_train2, \n",
    "    y_train2, \n",
    "    x_test2, \n",
    "    y_test2, \n",
    "    pred2,\n",
    "    x_train3, \n",
    "    y_train3, \n",
    "    x_test3, \n",
    "    y_test3, \n",
    "    pred3\n",
    ")"
   ]
  },
  {
   "cell_type": "markdown",
   "metadata": {},
   "source": [
    "<p style=\"text-align: justify\"> \n",
    "Table 10 summarizes the prediction results for all functions. The model performs best at $f_1$. Nevertheless, for all functions, the approximation is arbitrary accurate. I am convinced that the approximation gets even better for various systems. However, this is not the object of this work. \n",
    "<p>"
   ]
  },
  {
   "cell_type": "code",
   "execution_count": null,
   "metadata": {},
   "outputs": [],
   "source": [
    "test_pred = [y_test1, y_test2, y_test3]\n",
    "test_list = [pred1, pred2, pred3]\n",
    "gen_frame(test_pred, test_list, 10)"
   ]
  },
  {
   "cell_type": "markdown",
   "metadata": {},
   "source": [
    "#### Example: Happiness Score Dataset \n",
    "<p style=\"text-align: justify\">\n",
    "This section deals with the multidimensional approximation of a dataset's structure and is considered an extension of chapter 4.1.2. The dataset can be accessed <a href=\"https://www.kaggle.com/unsdsn/world-happiness\">here</a> or in the materials folder and contains evaluations of the happiness levels of 156 countries by other characteristics such as social support. A more precise description is provided at the official site.\n",
    "<p>\n",
    "<p style=\"text-align: justify\">\n",
    "For my upcoming analysis, I use the 2019 dataset. The relevant outcome variable in this section is the happiness score of a country ($s$). As inputs, all remaining characteristics are used, which are: GDP per capita ($c_1$), Social support ($c_2$), Healthy life expectancy ($c_3$), Freedom to make life choices ($c_4$), Generosity ($c_5$) and Perceptions of corruption ($c_6$). I again assume that there exists a function $\\phi$ that maps from characteristics to country's happiness score, i.e.,\n",
    "<p>\n",
    "    \n",
    "$$\\phi(c_1, c_2, c_3, c_4, c_5, c_6) = s$$   \n",
    "    \n",
    "For the approximation I use the following network:\n",
    "    \n",
    "![](material/seq_prediction.png)\n",
    "<p style=\"text-align: justify\">\n",
    "The actual happiness score prediction is visualized in Figure 14.2. The blue dots represent the initial score, while the orange crosses stand for the prediction. The approximation appears to be accurate. I iterate the network $1000$ times and plot the epoch-history in Figure 14.1. Both mean absolute error (MAE), as well as validation loss (VL), appear to converge very fast, i.e., \n",
    "<p>    \n",
    "$$\n",
    "\\begin{align*}\n",
    "MAE(Epoch) &\\in O(1)\\\\\n",
    "VL(Epoch) &\\in O(1)\\\\\n",
    "\\end{align*}\n",
    "$$\n",
    "<p style=\"text-align: justify\">\n",
    "The actual approximation accuracy is stated in Table 11 and displayed in Figure 14.3. Considering that no assumptions were made, the result is quite impressive. The mean absolute error of the prediction after the last iteration equals \n",
    "    \n",
    "$$\\mathbb{E}(|s - \\hat{\\phi}(.)|) = 0.45$$\n",
    "<p>\n",
    "<p style=\"text-align: justify\"> \n",
    "Technically spoken, the result indicates a pattern between the characteristics and the average happiness of a country.\n",
    "<p>"
   ]
  },
  {
   "cell_type": "code",
   "execution_count": null,
   "metadata": {},
   "outputs": [],
   "source": [
    "seq_data = MultidimApprox('data/Happiness_19.csv', 'Score')\n",
    "#seq_data.return_data()  #run this to look at origin dataset"
   ]
  },
  {
   "cell_type": "code",
   "execution_count": null,
   "metadata": {},
   "outputs": [],
   "source": [
    "%%time\n",
    "seq_data.estimator()"
   ]
  },
  {
   "cell_type": "code",
   "execution_count": null,
   "metadata": {},
   "outputs": [],
   "source": [
    "seq_data.plt_first_rslt(14.1)"
   ]
  },
  {
   "cell_type": "code",
   "execution_count": null,
   "metadata": {},
   "outputs": [],
   "source": [
    "seq_data.plt_second_rslt(14.3, 11)"
   ]
  },
  {
   "cell_type": "markdown",
   "metadata": {},
   "source": [
    "---\n",
    "## Further Machine Learning Methods\n",
    "\n",
    "In this section, I will use further modern ML methods from the scikit-learn library to approximate a discontinuous function benchmark $v$ that has the following form:\n",
    "\n",
    "$$\n",
    "\\begin{align*}\n",
    "v(x) &= -x+5 &, x < 0\\\\\n",
    "v(x) &= 0   &, x \\in [0,0.5)\\\\\n",
    "v(x) &= x-5  &, x \\in [0.5,0.8)\\\\\n",
    "v(x) &= e^x  &, x \\geq 0.8\\\\\n",
    "\\end{align*}\n",
    "$$\n",
    "\n",
    "<p style=\"text-align: justify\"> \n",
    "According to Moocarme et al. (2020), other ML methods also have advantages over artificial neural networks (ANN).\n",
    "<p>\n",
    "    \n",
    "<div class=\"alert alert-block alert-info\">\n",
    "<b>Advantages of Traditional Machine Learning Algorithms over ANN (Moocarme et al., 2020): </b>\n",
    "<p style=\"text-align: justify\"> \n",
    "- <b>Relatively good performance when the available training data is small:</b> In order to attain high performance, ANNs require a lot of data, and the deeper the network, the more data is required. With the increase in layers, the number of parameters that need to be learned also increases. This results in more time to train on the training data to reach the optimal parameter values. For example, VGG-16 has over 138 million parameters and required 14 million hand-labeled images to train and learn all the parameters.\n",
    "<p>\n",
    "<p style=\"text-align: justify\"> \n",
    "- <b>Cost-effective:</b> Both financially and computationally, deep networks can take a lot of computing power and time to train. This demands a lot of resources that may not be available to all. Moreover, these models are time-consuming to tune effectively and require a domain expert who's familiar with the inner workings of the model to achieve optimal performance.\n",
    "<p>\n",
    "<p style=\"text-align: justify\"> \n",
    "- <b>Easy to interpret:</b> Many traditional machine learning models are easy to interpret. So, identifying which feature had the most predictive power in the model is straightforward. This can be incredibly useful when working with non-technical team members who wish to understand and interpret the results of the model. ANNs are considered more of a black box, in that while they are successful in classifying images and other tasks, the understanding behind how the predictions are made is unintuitive and buried in layers of computations. As such, interpreting the results requires more effort.\n",
    "<p>\n",
    "</div>\n",
    "\n",
    "<p style=\"text-align: justify\"> \n",
    "For the upcoming approximation, I decided to use the Decision Tree Regressor and the K-nearest Neighbors Regressor. Before presenting the results, I will first motivate why I use them and how they even work. \n",
    "<p>\n",
    "    \n",
    "<code style=\"background:yellow;color:black\">**Decision Tree Regressor (DTR)**</code>\n",
    " \n",
    "> <p style=\"text-align: justify\"> According to the <a href=\"https://scikit-learn.org/stable/modules/tree.html#tree\">Decision Tree scikit-learn documentation</a>, DTR is a non-parametric supervised learning method. It aims to create a model that predicts a target variable's value by learning decision rules concluded from the data features. DTR can be seen as a piecewise constant approximation. The complexity of the model can be increased by deepening the tree. Scikit-learn also provides some advantages and disadvantages of the Decision Trees that are stated in the documentation. A Decision Tree consists of nodes and infers from the training data at every node whether the testing data is assigned the so-called right or left subset using a certain threshold. A loss function is then applied to each subset and aims to be minimized by the feature-threshold combination. Typical loss functions for the regression algorithm are Mean Squared Error or Half Poisson deviance. The exact mathematical formulation can be viewed in the <a href=\"https://scikit-learn.org/stable/modules/tree.html#tree\">documentation</a>. \n",
    "<p>\n",
    "    \n",
    "<code style=\"background:yellow;color:black\">**K-Nearest Neighbors Regressor (KNN Regression)**</code>\n",
    "> <p style=\"text-align: justify\"> KNN Regression is used when data labels are continuous. The assignment of the query point's label is calculated based on the average of the labels of its $k\\in\\mathbb{Z}^+$ nearest neighbors. By default, the KNN Regression uses uniform weights. That means each $k$ neighbor contributes uniformly ($\\frac{1}{k}$) to the assignment of a query point. In some cases (the function $v$ represents one), applying weighted weights can be beneficial. One way to do that is by changing the default weight input to distance. This assigns weights proportional to the inverse distance from the query point to the $k$ nearest neighbors. A more detailed description can be found <a href=\"https://scikit-learn.org/stable/modules/neighbors.html#regression\">here</a>.\n",
    "<p>   \n",
    " \n",
    "<p style=\"text-align: justify\">       \n",
    "For the sake of maximal performance, I, again, fit both models with dense training samples (np.array). Moreover, I stick to the default training size of $33\\%$ and test the remaining $67\\%$. In principle, one could use the classification algorithm instead of regression because of the function's discontinuity. However, this holds for the considered interval $[-1,1]$. I applied to various systems for both methods. The first one is more accurate. There I set $k$ equal to $1$ as neighbors and use default values for the remaining arguments. For the second system, I deepen both models and over-fitted them. Figure 15.1 visualizes the approximation performance of the first system. The blue and yellow dots represent training and testing data. The light blue stars stand for the KNN Regressor prediction, while the red crosses stand for the DTR prediction. It clearly can be said that the prediction appears to be highly accurate. The actual accuracy of bot methods is displayed in Table 12.1. The KNN Regressor appears to perform better in terms of minor errors. However, for more nodes (300 instead of 100), an enlarged interval $[-2,2]$ and more deepness, the DTR performs even better than the KNN Regression. The actual results are pictured in Figure 15.2 and listed in Table 12.2. I deliberately over-fitted both models because I want to check to what extent the estimation accuracy or the query point's assignment changes. As one can infer from the results, the approximation remains relatively accurate for both estimates, especially for the DTR approximation.   \n",
    "<p>"
   ]
  },
  {
   "cell_type": "code",
   "execution_count": null,
   "metadata": {},
   "outputs": [],
   "source": [
    "reg = Regressor(ts=0.33)"
   ]
  },
  {
   "cell_type": "code",
   "execution_count": null,
   "metadata": {},
   "outputs": [],
   "source": [
    "reg.prep_regr()"
   ]
  },
  {
   "cell_type": "code",
   "execution_count": null,
   "metadata": {},
   "outputs": [],
   "source": [
    "reg.plot_pred(15.1)"
   ]
  },
  {
   "cell_type": "code",
   "execution_count": null,
   "metadata": {},
   "outputs": [],
   "source": [
    "reg.create_error_df(12.1)"
   ]
  },
  {
   "cell_type": "code",
   "execution_count": null,
   "metadata": {},
   "outputs": [],
   "source": [
    "reg_over = Regressor(a=-2, b=2, nodes=300, ts=0.3)"
   ]
  },
  {
   "cell_type": "code",
   "execution_count": null,
   "metadata": {},
   "outputs": [],
   "source": [
    "reg_over.prep_regr(depth=7, weight=\"distance\", k_neigh=7)"
   ]
  },
  {
   "cell_type": "code",
   "execution_count": null,
   "metadata": {},
   "outputs": [],
   "source": [
    "reg_over.plot_pred(15.2, fitting=\"over\")"
   ]
  },
  {
   "cell_type": "code",
   "execution_count": null,
   "metadata": {},
   "outputs": [],
   "source": [
    "reg_over.create_error_df(12.2, fitting=\"over\")"
   ]
  },
  {
   "cell_type": "markdown",
   "metadata": {},
   "source": [
    "---\n",
    "## Economical Application\n",
    "\n",
    "<p style=\"text-align: justify\">\n",
    "This section deals with the economic fitness of ML methods for approximating functions. I will now extend the applications previously restricted to benchmark functions and provide an economic reference. At this point, I would also like to motivate the readers to use ML methods for estimation instead of conventional methods. ML applications are generally very versatile and, as can be seen from the previous sections, reasonably efficient since they are, among other things, very accurate without explicit assumptions.\n",
    "<p>\n",
    "  \n",
    "<p style=\"text-align: justify\">  \n",
    "Section 6. is divided into two parts, each of which contains its economical implementation. In the first part, the demand and supply functions are to be estimated using few observations. I use different methods for this purpose to allow for comparison. Besides, the market equilibrium is to be determined approximately based on this. For this, I program an object, which contains methods to implement this. I have thought up both functions, supply as well as demand functions. They are only used for benchmark analysis in an economic context to illustrate ML methods' suitability in an economic context. \n",
    "<p>\n",
    "<p style=\"text-align: justify\">      \n",
    "The second part of this section can be assigned to finance since I use object-oriented programming to approximate time series represented by companies' stock prices. For this purpose, I use two different approaches. My goal is basically to use them to concretize future stock trends to make an accurate stock price prediction possible.\n",
    "<p>\n",
    "    \n",
    "Finally, I discuss the relevance of the results and their suitability. \n",
    "\n",
    "\n",
    "### Estimation of Demand and Supply Curve\n",
    "<p style=\"text-align: justify\"> \n",
    "In this subsection, I will first use the interpolation method implemented in SciPy to approximate the demand and supply function sufficiently. Then I will try to estimate the equilibrium using the approximations. Simultaneously, I will map the actual market equilibrium and compare it with the approximate equilibrium. Afterward, I will interpolate the demand and supply function using modern ML techniques and tabulate the estimation error. To do so, I use the KNN Regressor and DTR as before. The Linear Regression method, which can be taken from this\n",
    "<a href=\"https://scikit-learn.org/stable/modules/generated/sklearn.linear_model.LinearRegression.html\">scikit-learn documentation</a>, will also be applied. For the Linear Regression method, I ensure sufficient flexibility with respect to its degree. For this purpose, I use the <a href=\"https://scikit-learn.org/stable/modules/generated/sklearn.pipeline.make_pipeline.html\">scikit-learn Pipeline method</a> and combine the simple Linear Regression with the <a href=\"https://scikit-learn.org/stable/modules/generated/sklearn.preprocessing.PolynomialFeatures.html\">Polynomial Feature method</a>, which allows me to adjust the degree of the Regression as desired. Before I go into the results, I would like to motivate my approach briefly.\n",
    "<p>\n",
    "    \n",
    "<p style=\"text-align: justify\"> \n",
    "Let $q^D(p)$ be the demand for a specific good at a price $p$ and $q^S(p)$ the supply for the same good at a price $p$. I create unconventional demand and supply functions to make the interpolations more exciting. Furthermore, I focus on the interpolation of the demand and supply's inverse form. The inverse function's mathematical form can be found in the <p style=\"background:grew\"><code style=\"background:black;color:white\">./auxiliary/economic_application.py\n",
    "</code>\n",
    "</p>\n",
    "<p>\n",
    "<p style=\"text-align: justify\">\n",
    "directory. The representing methods are named accordingly. I decide to include noise for the demand, whereas I define a step function for the supply.  \n",
    "<p>\n",
    "<code style=\"background:yellow;color:black\"><b>SciPy Interpolation</b></code>\n",
    "<p style=\"text-align: justify\"> \n",
    "The SciPy interpolation can be accessed <a href=\"https://docs.scipy.org/doc/scipy/reference/generated/scipy.interpolate.interp1d.html\">here</a>.\n",
    "Its source code can be viewed <a href=\"https://github.com/scipy/scipy/blob/master/scipy/interpolate/interpolate.py\">here</a>. The interp1d object is, according to the SciPy documentation, a convenient method to create a function based on fixed data points, which can be evaluated anywhere within the domain defined by the given data using linear interpolation. I use linear splines for the interpolation as a series of line segments spliced together to form a continuous function, although cubic splines may even perform better. According to the Scientific Computing class taught by Eisenhauer (2021), a linear spline with $n + 1$ evenly-spaced interpolation nodes $q_0 , q_1 , ... , q_n$ on the interval $[a, b]$ can be written as a linear combination of the $n + 1$ basis functions:\n",
    "<p> \n",
    "\\begin{align*}\n",
    "\\phi_j(x) = \\begin{cases}\n",
    "1 - \\frac{|q - q_j|}{h}, & \\qquad |q - q_j| \\leq h \\\\\n",
    "0  & \\\\\n",
    "\\end{cases}\n",
    "\\end{align*}\n",
    "\n",
    "where $h = (b - a)/n$ represents the distance between the nodes.\n",
    "\n",
    "\n",
    "The linear spline approximant of $p$  takes thus the form:\n",
    "\n",
    "\\begin{align*}\n",
    "\\hat{p}(q) = \\sum_{j=1}^{n} p(q_j)\\phi_j(q)\n",
    "\\end{align*}\n",
    "\n",
    "<p style=\"text-align: justify\"> \n",
    "The interp1d class yields to $\\hat{p}(q)$ for some given nodes, where $q=\\{q^D, q^S\\}$. I restrict $q$ to a $(0,20]$ interval and $p$ to a $(0,100]$ interval.\n",
    "<p> \n"
   ]
  },
  {
   "cell_type": "code",
   "execution_count": null,
   "metadata": {},
   "outputs": [],
   "source": [
    "sci_int = PolynomialDS(\n",
    "    0, 100, 10, demand, supply\n",
    ")\n",
    "sci_int.__name__()"
   ]
  },
  {
   "cell_type": "markdown",
   "metadata": {},
   "source": [
    "<p style=\"text-align: justify\"> \n",
    "I use $10$ nodes for the final approximation and allow for NaN values. The nodes and corresponding quantities are represented in the next cell. The user-defined __call__ function is also implemented to compare the approximation at a specific price with the initial quantities. For $p=20$, the approximation is accurate. The approximation results are displayed in Figures 16.1 to 16.4. The SciPy interpolator fails to fully approximate demand and supply. However, this only holds for the linear splines and $10$ interpolation nodes. The results might get arbitrary accurate for more nodes and higher interpolation degrees. Nevertheless, considering the aspects described, the approximation is relatively accurate, especially in the demand function's estimation. The market equilibrium can also be determined relatively accurately. \n",
    "<p>"
   ]
  },
  {
   "cell_type": "code",
   "execution_count": null,
   "metadata": {},
   "outputs": [],
   "source": [
    "print(sci_int)"
   ]
  },
  {
   "cell_type": "code",
   "execution_count": null,
   "metadata": {},
   "outputs": [],
   "source": [
    "print(sci_int(np.array([20])))"
   ]
  },
  {
   "cell_type": "code",
   "execution_count": null,
   "metadata": {},
   "outputs": [],
   "source": [
    "sci_int.plt_approx((14, 10))"
   ]
  },
  {
   "cell_type": "code",
   "execution_count": null,
   "metadata": {},
   "outputs": [],
   "source": [
    "sci_int.close_intersection()"
   ]
  },
  {
   "cell_type": "markdown",
   "metadata": {},
   "source": [
    "<code style=\"background:yellow;color:black\"><b>ML Interpolation</b></code>\n",
    "<p style=\"text-align: justify\">\n",
    "As mentioned before, next, I will estimate the demand function and the supply function by ML methods. For this purpose, three different methods will be applied, namely KNN regression, DTR, and linear regression, where linear regression will be provided with degrees two and six. The Modern-ML Demand and Supply Interpolator object represents this implementation and is shown below. As can be seen from Figures 17.1 to 17.4, the ML approximation is also relatively accurate. However, it is not clear which approximation method is more accurate. The training dataset contains $30$ interpolation nodes while $20$ nodes are to be tested.  Thus $\\alpha$ is equal to $0.4$. According to Table 14, KNN regression performs similarly to SciPy interpolation for the demand function. DTR is 33 percent more accurate in interpolating the supply function. Thus, the ML interpolator object does not appear to perform worse than the SciPy interpolation method. Although the ML methods have more training points (30 to 10), it must be taken into account that the same systems were used for the supply and demand functions despite the different structure of supply and demand. Therefore, the results could probably be significantly improvable by creating individual classes for supply and demand that contain adapted systems. However, it can be clearly stated that the ML methods are much more flexible and particularly exciting for unconventional functions.  \n",
    "<p>"
   ]
  },
  {
   "cell_type": "code",
   "execution_count": null,
   "metadata": {},
   "outputs": [],
   "source": [
    "ml_appr_ds = AISupplyDemandApprox(\n",
    "                50, supply, demand\n",
    "            )"
   ]
  },
  {
   "cell_type": "code",
   "execution_count": null,
   "metadata": {},
   "outputs": [],
   "source": [
    "ml_appr_ds.__name__()"
   ]
  },
  {
   "cell_type": "code",
   "execution_count": null,
   "metadata": {},
   "outputs": [],
   "source": [
    "ml_appr_ds.plots()  "
   ]
  },
  {
   "cell_type": "code",
   "execution_count": null,
   "metadata": {},
   "outputs": [],
   "source": [
    "ml_appr_ds.reslts_as_frame()"
   ]
  },
  {
   "cell_type": "markdown",
   "metadata": {},
   "source": [
    "### Stock Price Predictor \n",
    "\n",
    "<p style=\"text-align: justify\">\n",
    "There are many papers (Hendershott and Riordan (2011), Hendershott, Jones, and Menkveld (2011), Chaboud et al. (2014)) that provide evidence for an increased relevance of algorithmic trading (AT) in the financial exchange market. Hendershott, Jones, and Menkveld (2011) even find that AT improves liquidity and enhances quotes' informativeness. While AT is exciting in applying trading strategies in the short run, it is not necessarily referred to as forecast stock prices. However, as Heaton et al. (2016) state, deep learning methods to financial-related prediction problems such as pricing securities, constructing portfolios, and risk management can produce more beneficial results than standard finance methods. In particular, deep learning can detect interactions in the training data that are invisible to any existing financial-economic theory (Heaton et al., 2016). In this section, I will try to forecast a specific company's stock price using the KNN Regression and a deep neural network. To do so, I use two different approaches.   \n",
    "<p>\n",
    "    \n",
    "<code style=\"background:yellow;color:black\"><b>Time Price Approach</b></code>\n",
    "    \n",
    "<p style=\"text-align: justify\">\n",
    "This approach refers to the KNN Regression and uses time $t$ as input and price $P_t$ at time $t$ as the corresponding output. Basically, I approximate the following function:\n",
    "<p>    \n",
    "    $$P_{t} = h(t) + \\epsilon_{t+1}$$\n",
    "    \n",
    "<p style=\"text-align: justify\">\n",
    "Hence, I suppose that there is a pattern between time and stock price except for the stock price's natural trend. The Apple stock is to be predicted in this context. I use the Yahoo API to access stock history. First, I check how well the KNN Regression even performs in approximating values within the stock price history. I use closing prices as output and dates as inputs. Then, the data is divided into training and testing data according to $alpha=0.6$. Figure 18.1 shows the approximation. The red dots represent the estimated values. The estimation's root mean squared error is lower than $0.5$. Hence, the approximation appears to be accurate. However, the object fails to forecast the future stock price. The method below returns the price prediction of the closing prices for the next two days. As training data, I use the entire close price and date history. However, according to Figure 18.3, the object predicts that the stock price converges (can be checked by increasing the days variable). This, in turn, is counterintuitive. It may be that the algorithm is only accurate in predicting the next day's stock price. \n",
    "<p>   \n",
    "    \n",
    "```python\n",
    "                                apple.predict_price_knn(days=4, periods=2)\n",
    "```\n",
    "    \n",
    "\n",
    "\n",
    "\n"
   ]
  },
  {
   "cell_type": "code",
   "execution_count": null,
   "metadata": {},
   "outputs": [],
   "source": [
    "stock = lambda ticker : ticker.upper()"
   ]
  },
  {
   "cell_type": "code",
   "execution_count": null,
   "metadata": {},
   "outputs": [],
   "source": [
    "apple_stock = stock('aapl')\n",
    "apple = StockPricePredictor(apple_stock)"
   ]
  },
  {
   "cell_type": "code",
   "execution_count": null,
   "metadata": {},
   "outputs": [],
   "source": [
    "print(apple)"
   ]
  },
  {
   "cell_type": "code",
   "execution_count": null,
   "metadata": {},
   "outputs": [],
   "source": [
    "apple.plot_data(test_size=0.4, random_state=42)"
   ]
  },
  {
   "cell_type": "code",
   "execution_count": null,
   "metadata": {},
   "outputs": [],
   "source": [
    "apple.knn_accuracy()"
   ]
  },
  {
   "cell_type": "code",
   "execution_count": null,
   "metadata": {},
   "outputs": [],
   "source": [
    "apple.predict_price_knn(days=4, periods=2)"
   ]
  },
  {
   "cell_type": "code",
   "execution_count": null,
   "metadata": {},
   "outputs": [],
   "source": [
    "apple.plot_pred_data()"
   ]
  },
  {
   "cell_type": "markdown",
   "metadata": {},
   "source": [
    "<code style=\"background:yellow;color:black\"><b>Recursive Approach</b></code>\n",
    "\n",
    "<p style=\"text-align: justify\">\n",
    "This approach will use the first stated equation structure from the second section and adapt it to the stock price prediction context. The recursive function is formalized as follows: \n",
    "<p>\n",
    "    \n",
    "$$\n",
    "P_{t+1} = \\xi(P_t) + \\epsilon_{t+1}\n",
    "$$\n",
    "<p style=\"text-align: justify\">\n",
    "My goal is to approximate the function $\\xi(.)$ given the stock price $P_t$ in period $t$ in order predict the stock price in the next period $P_{t+1}$. I inherit the properties of the previous class to the object underlying for the recursive approximation. I use Nio as a company whose stock I want to forecast because of personal interest, although I am aware that the data size is relatively small (starts at 2018). Before predicting tomorrow's price, I first want to check the accuracy of the model. For this, I create training and testing data that are visualized in Figure 18.3. One can imagine the stock price prediction as a time series approximation. I use the previously discussed MLP Regressor and create the following neural network:\n",
    "<p>\n",
    " \n",
    "![](material/network_stock_pred.png)\n",
    "    \n",
    "<p style=\"text-align: justify\">\n",
    "where $P_t$ corresponds to the input and $P_{t+1}$ to the output. Moreover, the relu argument is used as the activation function and adam as the solver. I iterate $10000$ times. The result is pictured in Figure 18.4. and appears to be arbitrary accurate. The precision is presented in the next equation:\n",
    "<p>\n",
    "    \n",
    "$$\\sqrt{\\mathbb{E}[\\{\\hat{\\xi}(P_t) - \\xi(P_t)\\}^2]} < 2 \\$ $$\n",
    "\n",
    "<p style=\"text-align: justify\">\n",
    "where $\\hat{\\xi}(P_t)$ represents the approximation. Considering that one Nio stock costs about $57$ dollars, an average deviation of $2$ dollars equals a deviation of $3.5$ percent. However, taken into account the relatively small size of the dataset, the performance is still impressive. The performance is even better for companies with a greater stock price history.\n",
    "<p>\n",
    "    \n",
    "<p style=\"text-align: justify\">\n",
    "The last cell, whose code is given below, shows tomorrow's price prediction of the Nio stock compared to the actual price crawled from the <a href=\"https://finance.yahoo.com/quote/NIO?p=NIO&.tsrc=fin-srch\">yahoo</a>  site. \n",
    "<p>\n",
    "    \n",
    "```python  \n",
    "                                print(f\"The actual Nio Price equals: {price_nio}\")\n",
    "                                nio.future_prediction(\n",
    "                                    price_nio.reshape(-1,1), iterations=10000\n",
    "                                )\n",
    "```\n",
    "\n",
    "The stock price crawler uses the requests and bs4 modules and is defined as <mark>get_actual_price_stock</mark> method in the following directory:\n",
    "    \n",
    "<p style=\"background:grew\"><code style=\"background:black;color:white\">./auxiliary/stock_price_predictor.py\n",
    "</code>\n",
    "</p>\n",
    "\n",
    "This section finishes the whole analysis. In the next section, I will finish the whole work by summing up the essential findings in the conclusion section. "
   ]
  },
  {
   "cell_type": "code",
   "execution_count": null,
   "metadata": {},
   "outputs": [],
   "source": [
    "nio_stock = stock('nio')"
   ]
  },
  {
   "cell_type": "code",
   "execution_count": null,
   "metadata": {},
   "outputs": [],
   "source": [
    "yahoo_nio = \"https://finance.yahoo.com/quote/NIO?p=NIO&.tsrc=fin-srch\"\n",
    "price_nio = get_actual_price_stock(yahoo_nio) #current nio price"
   ]
  },
  {
   "cell_type": "code",
   "execution_count": null,
   "metadata": {},
   "outputs": [],
   "source": [
    "nio = NetworkPricePredictor(nio_stock)\n",
    "print(nio)\n",
    "nio.__name__()"
   ]
  },
  {
   "cell_type": "code",
   "execution_count": null,
   "metadata": {},
   "outputs": [],
   "source": [
    "nio.assign_data()"
   ]
  },
  {
   "cell_type": "code",
   "execution_count": null,
   "metadata": {},
   "outputs": [],
   "source": [
    "nio.mlp_prediction(iterations=10000)"
   ]
  },
  {
   "cell_type": "code",
   "execution_count": null,
   "metadata": {},
   "outputs": [],
   "source": [
    "print(f\"The actual Nio Price equals: {price_nio}\")\n",
    "nio.future_prediction(\n",
    "    price_nio.reshape(-1,1), iterations=10000\n",
    ")"
   ]
  },
  {
   "cell_type": "markdown",
   "metadata": {},
   "source": [
    "---\n",
    "## Conclusion\n",
    "\n",
    "<p style=\"text-align: justify\">    \n",
    "This work applies modern ML methods as an alternative tool for approximating simple to more complex functions. Especially neural networks, but also K-nearest neighbor regressions, decision tree regressions, and linear regressions with various degrees were used. Furthermore, I discussed the theories of the respective methods. Neural networks have been treated in particular detail merely because they are becoming increasingly popular in science and have a wide range of applications. \n",
    "<p>\n",
    "<p style=\"text-align: justify\"> \n",
    "Based on the results, it can be concluded with absolute confidence that ML methods can arbitrarily accurately approximate a wide variety of mathematical functions. Although some methods are more suitable than others, all methods used in this work perform relatively well. The precision does not deteriorate significantly with the increasing complexity of the functions. ML methods can approximate mainly mathematical benchmark functions, but they do not fail in interpolating complex functions. Deep neural networks seem to be remarkably accurate for this purpose. This finding harmonizes with the findings of other scientific publications in this field that were discussed in Section 4. \n",
    "<p>\n",
    "<p style=\"text-align: justify\"> \n",
    "Since the conventional approximation methods discussed in this work provide similarly accurate results in approximating typical mathematical functions, no clear statement can be made at this point about which methods are better on average. For most occasions, the use of conventional methods is probably sufficient to approximate a variety of mathematical functions sufficiently accurately. However, at this point, I would like to motivate the readers to extend their arsenal of approximation tools by ML methods. This work has shown that they are worth to be at least considered. \n",
    "<p>\n",
    "<p style=\"text-align: justify\"> \n",
    "Moreover, I have found that ML methods are much more flexible than conventional methods and are particularly interesting when approximating atypical functions. As the complexity of the functions increases, I would advocate from the current perspective to use modern ML methods rather than the typical methods from a certain critical complexity point on, since conventional method may fail to approximate functions above that critical complexity point arbitrarily accurately, while feedforward neural networks can arbitrarily precisely approximate any function with any continuous sigmoidal nonlinearity by simply adjusting synapse strength accordingly (Cybenko et al., 1989). \n",
    "<p>\n",
    "<p style=\"text-align: justify\"> \n",
    "Finally, I would like to share with the readership that I am thoroughly excited to see how ML methods will shape the universe of approximation tools as a subset of artificial intelligence. I suspect that they will revolutionize them due to the increasing information overload and the accompanying expansion of training data sets. This, coupled with an increase in the understanding of ML methods and significant improvement, will likely lead to modern ML methods being the non-plus ultra of the future.\n",
    "<p>\n",
    "    \n",
    "\n"
   ]
  },
  {
   "cell_type": "markdown",
   "metadata": {},
   "source": [
    "---\n",
    "## References\n",
    "\n",
    "<b>Athey, S., 2018.</b> The impact of machine learning on economics. In The economics of artificial intelligence: An agenda (pp. 507-547). University of Chicago Press.\n",
    "\n",
    "<b>Brynjolfsson, E., Mitchell, T. and Rock, D., 2018, May.</b> What can machines learn, and what does it mean for occupations and the economy?. *In AEA Papers and Proceedings* (Vol. 108, pp. 43-47).\n",
    "\n",
    "<b>Chaboud, A.P., Chiquoine, B., Hjalmarsson, E. and Vega, C., 2014.</b> Rise of the machines: Algorithmic trading in the foreign exchange market. *The Journal of Finance,* 69(5), pp.2045-2084.\n",
    "\n",
    "<b>Cybenko, G., 1989.</b> Approximation by superpositions of a sigmoidal function. *Mathematics of control, signals and systems,* 2(4), pp.303-314.\n",
    "\n",
    "<b>Gasca, M. and Sauer, T., 2000.</b> Polynomial interpolation in several variables. *Advances in Computational Mathematics,* 12(4), pp.377-410.\n",
    "\n",
    "<b>Gasca, M. and Sauer, T., 2001.</b> On the history of multivariate polynomial interpolation. *In Numerical Analysis:* Historical Developments in the 20th Century (pp. 135-147). Elsevier.\n",
    "\n",
    "<b>Goodfellow's (2016)</b>\n",
    "\n",
    "<b>Heaton, J.B., Polson, N.G. and Witte, J.H., 2016.</b> Deep learning in finance. arXiv preprint arXiv:1602.06561.\n",
    "\n",
    "<b>Herbich et al.'s (1999)</b>\n",
    "\n",
    "<b>Hendershott, T., Jones, C.M. and Menkveld, A.J., 2011.</b> Does algorithmic trading improve liquidity?. *The Journal of finance,* 66(1), pp.1-33.\n",
    "\n",
    "<b>Hopfield, J.J., 1982.</b> Neural networks and physical systems with emergent collective computational abilities. *Proceedings of the national academy of sciences,* 79(8), pp.2554-2558.\n",
    "\n",
    "<b>Ketkar, N. and Santana, E., 2017.</b> Deep learning with python (Vol. 1). *Berkeley,* CA: Apress.\n",
    "\n",
    "<b>Lin, H.W., Tegmark, M. and Rolnick, D., 2017.</b> Why does deep and cheap learning work so well?. *Journal of Statistical Physics,* 168(6), pp.1223-1247.\n",
    "\n",
    "<b>Miranda, M.J. and Fackler, P.L., 2004.</b> Applied computational economics and finance. *MIT press.*\n",
    "\n",
    "<b>Moocarme et al., 2020</b>\n",
    "\n",
    "<b>Murphy, K.P., 2012.</b> Machine learning: a probabilistic perspective. *MIT press.*\n",
    "\n",
    "<b>Pedregosa, F., Varoquaux, G., Gramfort, A., Michel, V., Thirion, B., Grisel, O., Blondel, M., Prettenhofer, P., Weiss, R., Dubourg, V. and Vanderplas, J., 2011.</b> Scikit-learn: Machine learning in Python. *the Journal of machine Learning research*, 12, pp.2825-2830.\n",
    "\n",
    "<b>Ramalho, L., 2015.</b> Fluent python: Clear, concise, and effective programming. \" *O'Reilly Media, Inc.*\".\n",
    "\n",
    "<b>Tegmark, M., 2017.</b> Life 3.0: Being human in the age of artificial intelligence. *Knopf.*\n",
    "\n",
    "<b>Virtanen, P., Gommers, R., Oliphant, T.E., Haberland, M., Reddy, T., Cournapeau, D., Burovski, E., Peterson, P., Weckesser, W., Bright, J. and van der Walt, S.J., 2020.</b> SciPy 1.0: fundamental algorithms for scientific computing in Python. *Nature methods,* 17(3), pp.261-272.\n",
    "\n"
   ]
  }
 ],
 "metadata": {
  "kernelspec": {
   "display_name": "Python 3",
   "language": "python",
   "name": "python3"
  },
  "language_info": {
   "codemirror_mode": {
    "name": "ipython",
    "version": 3
   },
   "file_extension": ".py",
   "mimetype": "text/x-python",
   "name": "python",
   "nbconvert_exporter": "python",
   "pygments_lexer": "ipython3",
   "version": "3.7.6"
  },
  "toc": {
   "base_numbering": 1,
   "nav_menu": {},
   "number_sections": true,
   "sideBar": true,
   "skip_h1_title": true,
   "title_cell": "Table of Contents",
   "title_sidebar": "Contents",
   "toc_cell": true,
   "toc_position": {
    "height": "calc(100% - 180px)",
    "left": "10px",
    "top": "150px",
    "width": "165px"
   },
   "toc_section_display": true,
   "toc_window_display": true
  }
 },
 "nbformat": 4,
 "nbformat_minor": 4
}
